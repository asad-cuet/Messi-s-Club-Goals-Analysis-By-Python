{
 "cells": [
  {
   "cell_type": "markdown",
   "metadata": {},
   "source": [
    "# Project Title - Messi's-all-club-goals-analysis"
   ]
  },
  {
   "cell_type": "markdown",
   "metadata": {},
   "source": [
    "In this project, I analysed Messi's all club goals. I analysed Messi's highest peak goal in season, tournament and match. Also analysed how, he scored goals, assisted by other or by himself. I learn manything from this project. Anyone can know about Messi by watching this project."
   ]
  },
  {
   "cell_type": "markdown",
   "metadata": {},
   "source": [
    "## Downloading the Dataset\n",
    "\n",
    "I will download Messi all club goal dataset. I wil download this because, I am a big fan of Messi."
   ]
  },
  {
   "cell_type": "code",
   "execution_count": 1,
   "metadata": {},
   "outputs": [],
   "source": [
    "!pip install jovian opendatasets --upgrade --quiet"
   ]
  },
  {
   "cell_type": "markdown",
   "metadata": {},
   "source": [
    "Let's begin by downloading the data, and listing the files within the dataset."
   ]
  },
  {
   "cell_type": "code",
   "execution_count": 2,
   "metadata": {},
   "outputs": [],
   "source": [
    "# Change this\n",
    "dataset_url = 'https://github.com/azminewasi/Lionel-Messi-Club-Goals/blob/main/data.csv' "
   ]
  },
  {
   "cell_type": "code",
   "execution_count": 3,
   "metadata": {},
   "outputs": [
    {
     "name": "stdout",
     "output_type": "stream",
     "text": [
      "Using downloaded and verified file: ./data.csv\n"
     ]
    }
   ],
   "source": [
    "import opendatasets as od\n",
    "od.download(dataset_url)"
   ]
  },
  {
   "cell_type": "markdown",
   "metadata": {},
   "source": [
    "The dataset has been downloaded and extracted."
   ]
  },
  {
   "cell_type": "markdown",
   "metadata": {},
   "source": [
    "Let us save and upload our work to Jovian before continuing."
   ]
  },
  {
   "cell_type": "code",
   "execution_count": 4,
   "metadata": {},
   "outputs": [],
   "source": [
    "project_name = \"Messi's-all-club-goals-analysis\" # change this (use lowercase letters and hyphens only)"
   ]
  },
  {
   "cell_type": "code",
   "execution_count": 5,
   "metadata": {},
   "outputs": [],
   "source": [
    "!pip install jovian --upgrade -q"
   ]
  },
  {
   "cell_type": "code",
   "execution_count": 6,
   "metadata": {},
   "outputs": [],
   "source": [
    "import jovian"
   ]
  },
  {
   "cell_type": "code",
   "execution_count": 7,
   "metadata": {},
   "outputs": [
    {
     "data": {
      "application/javascript": [
       "window.require && require([\"base/js/namespace\"],function(Jupyter){Jupyter.notebook.save_checkpoint()})"
      ],
      "text/plain": [
       "<IPython.core.display.Javascript object>"
      ]
     },
     "metadata": {},
     "output_type": "display_data"
    },
    {
     "name": "stdout",
     "output_type": "stream",
     "text": [
      "[jovian] Creating a new project \"asad-cuet/Messi's-all-club-goals-analysis\"\u001b[0m\n",
      "[jovian] Committed successfully! https://jovian.ai/asad-cuet/messis-all-club-goals-analysis-02a07\u001b[0m\n"
     ]
    },
    {
     "data": {
      "text/plain": [
       "'https://jovian.ai/asad-cuet/messis-all-club-goals-analysis-02a07'"
      ]
     },
     "execution_count": 7,
     "metadata": {},
     "output_type": "execute_result"
    }
   ],
   "source": [
    "jovian.commit(project=project_name)"
   ]
  },
  {
   "cell_type": "markdown",
   "metadata": {},
   "source": [
    "## Data Preparation and Cleaning\n",
    "\n",
    "Empty data or any wrong format data or any wrong data have to be removed\n",
    "\n"
   ]
  },
  {
   "cell_type": "code",
   "execution_count": 8,
   "metadata": {},
   "outputs": [],
   "source": [
    "import pandas"
   ]
  },
  {
   "cell_type": "code",
   "execution_count": 9,
   "metadata": {},
   "outputs": [],
   "source": [
    "df=pandas.read_csv('data.csv')"
   ]
  },
  {
   "cell_type": "code",
   "execution_count": 10,
   "metadata": {},
   "outputs": [
    {
     "data": {
      "text/html": [
       "<div>\n",
       "<style scoped>\n",
       "    .dataframe tbody tr th:only-of-type {\n",
       "        vertical-align: middle;\n",
       "    }\n",
       "\n",
       "    .dataframe tbody tr th {\n",
       "        vertical-align: top;\n",
       "    }\n",
       "\n",
       "    .dataframe thead th {\n",
       "        text-align: right;\n",
       "    }\n",
       "</style>\n",
       "<table border=\"1\" class=\"dataframe\">\n",
       "  <thead>\n",
       "    <tr style=\"text-align: right;\">\n",
       "      <th></th>\n",
       "      <th>Season</th>\n",
       "      <th>Competition</th>\n",
       "      <th>Matchday</th>\n",
       "      <th>Date</th>\n",
       "      <th>Venue</th>\n",
       "      <th>Club</th>\n",
       "      <th>Opponent</th>\n",
       "      <th>Result</th>\n",
       "      <th>Playing_Position</th>\n",
       "      <th>Minute</th>\n",
       "      <th>At_score</th>\n",
       "      <th>Type</th>\n",
       "      <th>Goal_assist</th>\n",
       "    </tr>\n",
       "  </thead>\n",
       "  <tbody>\n",
       "    <tr>\n",
       "      <th>0</th>\n",
       "      <td>04/05</td>\n",
       "      <td>LaLiga</td>\n",
       "      <td>34</td>\n",
       "      <td>5/1/05</td>\n",
       "      <td>H</td>\n",
       "      <td>FC Barcelona</td>\n",
       "      <td>Albacete Balompie</td>\n",
       "      <td>2:0</td>\n",
       "      <td>CF</td>\n",
       "      <td>90+1</td>\n",
       "      <td>2:0</td>\n",
       "      <td>Left-footed shot</td>\n",
       "      <td>Ronaldinho Gaacho</td>\n",
       "    </tr>\n",
       "    <tr>\n",
       "      <th>1</th>\n",
       "      <td>05/06</td>\n",
       "      <td>UEFA Champions League</td>\n",
       "      <td>Group Stage</td>\n",
       "      <td>11/2/05</td>\n",
       "      <td>H</td>\n",
       "      <td>FC Barcelona</td>\n",
       "      <td>Panathinaikos Athens</td>\n",
       "      <td>5:0</td>\n",
       "      <td>RW</td>\n",
       "      <td>34</td>\n",
       "      <td>3:0</td>\n",
       "      <td>Left-footed shot</td>\n",
       "      <td>NaN</td>\n",
       "    </tr>\n",
       "    <tr>\n",
       "      <th>2</th>\n",
       "      <td>05/06</td>\n",
       "      <td>LaLiga</td>\n",
       "      <td>13</td>\n",
       "      <td>11/27/05</td>\n",
       "      <td>H</td>\n",
       "      <td>FC Barcelona</td>\n",
       "      <td>Racing Santander</td>\n",
       "      <td>4:1</td>\n",
       "      <td>RW</td>\n",
       "      <td>51</td>\n",
       "      <td>2:0</td>\n",
       "      <td>Left-footed shot</td>\n",
       "      <td>Samuel Etoo</td>\n",
       "    </tr>\n",
       "    <tr>\n",
       "      <th>3</th>\n",
       "      <td>05/06</td>\n",
       "      <td>LaLiga</td>\n",
       "      <td>19</td>\n",
       "      <td>1/15/06</td>\n",
       "      <td>H</td>\n",
       "      <td>FC Barcelona</td>\n",
       "      <td>Athletic Bilbao</td>\n",
       "      <td>2:1</td>\n",
       "      <td>RW</td>\n",
       "      <td>50</td>\n",
       "      <td>2:1</td>\n",
       "      <td>Left-footed shot</td>\n",
       "      <td>Mark van Bommel</td>\n",
       "    </tr>\n",
       "    <tr>\n",
       "      <th>4</th>\n",
       "      <td>05/06</td>\n",
       "      <td>LaLiga</td>\n",
       "      <td>20</td>\n",
       "      <td>1/22/06</td>\n",
       "      <td>H</td>\n",
       "      <td>FC Barcelona</td>\n",
       "      <td>Deportivo Alaves</td>\n",
       "      <td>2:0</td>\n",
       "      <td>CF</td>\n",
       "      <td>82</td>\n",
       "      <td>2:0</td>\n",
       "      <td>Left-footed shot</td>\n",
       "      <td>Ronaldinho Gaacho</td>\n",
       "    </tr>\n",
       "    <tr>\n",
       "      <th>...</th>\n",
       "      <td>...</td>\n",
       "      <td>...</td>\n",
       "      <td>...</td>\n",
       "      <td>...</td>\n",
       "      <td>...</td>\n",
       "      <td>...</td>\n",
       "      <td>...</td>\n",
       "      <td>...</td>\n",
       "      <td>...</td>\n",
       "      <td>...</td>\n",
       "      <td>...</td>\n",
       "      <td>...</td>\n",
       "      <td>...</td>\n",
       "    </tr>\n",
       "    <tr>\n",
       "      <th>678</th>\n",
       "      <td>21/22</td>\n",
       "      <td>Ligue 1</td>\n",
       "      <td>23</td>\n",
       "      <td>2/6/22</td>\n",
       "      <td>A</td>\n",
       "      <td>Paris Saint-Germain</td>\n",
       "      <td>LOSC Lille</td>\n",
       "      <td>1:5</td>\n",
       "      <td>CF</td>\n",
       "      <td>38</td>\n",
       "      <td>1:3</td>\n",
       "      <td>Left-footed shot</td>\n",
       "      <td>NaN</td>\n",
       "    </tr>\n",
       "    <tr>\n",
       "      <th>679</th>\n",
       "      <td>21/22</td>\n",
       "      <td>Ligue 1</td>\n",
       "      <td>30</td>\n",
       "      <td>4/3/22</td>\n",
       "      <td>H</td>\n",
       "      <td>Paris Saint-Germain</td>\n",
       "      <td>FC Lorient</td>\n",
       "      <td>5:1</td>\n",
       "      <td>RW</td>\n",
       "      <td>73</td>\n",
       "      <td>4:1</td>\n",
       "      <td>Left-footed shot</td>\n",
       "      <td>Kylian Mbappe</td>\n",
       "    </tr>\n",
       "    <tr>\n",
       "      <th>680</th>\n",
       "      <td>21/22</td>\n",
       "      <td>Ligue 1</td>\n",
       "      <td>34</td>\n",
       "      <td>4/23/22</td>\n",
       "      <td>H</td>\n",
       "      <td>Paris Saint-Germain</td>\n",
       "      <td>RC Lens</td>\n",
       "      <td>1:1</td>\n",
       "      <td>RW</td>\n",
       "      <td>68</td>\n",
       "      <td>1:0</td>\n",
       "      <td>Left-footed shot</td>\n",
       "      <td>Neymar</td>\n",
       "    </tr>\n",
       "    <tr>\n",
       "      <th>681</th>\n",
       "      <td>21/22</td>\n",
       "      <td>Ligue 1</td>\n",
       "      <td>37</td>\n",
       "      <td>5/14/22</td>\n",
       "      <td>A</td>\n",
       "      <td>Paris Saint-Germain</td>\n",
       "      <td>Montpellier</td>\n",
       "      <td>0:4</td>\n",
       "      <td>CF</td>\n",
       "      <td>6</td>\n",
       "      <td>0:1</td>\n",
       "      <td>Left-footed shot</td>\n",
       "      <td>Kylian Mbappé</td>\n",
       "    </tr>\n",
       "    <tr>\n",
       "      <th>682</th>\n",
       "      <td>21/22</td>\n",
       "      <td>Ligue 1</td>\n",
       "      <td>37</td>\n",
       "      <td>5/14/22</td>\n",
       "      <td>A</td>\n",
       "      <td>Paris Saint-Germain</td>\n",
       "      <td>Montpellier</td>\n",
       "      <td>0:4</td>\n",
       "      <td>CF</td>\n",
       "      <td>20</td>\n",
       "      <td>0:2</td>\n",
       "      <td>Left-footed shot</td>\n",
       "      <td>Kylian Mbappé</td>\n",
       "    </tr>\n",
       "  </tbody>\n",
       "</table>\n",
       "<p>683 rows × 13 columns</p>\n",
       "</div>"
      ],
      "text/plain": [
       "    Season            Competition     Matchday      Date Venue  \\\n",
       "0    04/05                 LaLiga           34    5/1/05     H   \n",
       "1    05/06  UEFA Champions League  Group Stage   11/2/05     H   \n",
       "2    05/06                 LaLiga           13  11/27/05     H   \n",
       "3    05/06                 LaLiga           19   1/15/06     H   \n",
       "4    05/06                 LaLiga           20   1/22/06     H   \n",
       "..     ...                    ...          ...       ...   ...   \n",
       "678  21/22                Ligue 1           23    2/6/22     A   \n",
       "679  21/22                Ligue 1           30    4/3/22     H   \n",
       "680  21/22                Ligue 1           34   4/23/22     H   \n",
       "681  21/22                Ligue 1           37   5/14/22     A   \n",
       "682  21/22                Ligue 1           37   5/14/22     A   \n",
       "\n",
       "                    Club              Opponent Result Playing_Position Minute  \\\n",
       "0           FC Barcelona     Albacete Balompie    2:0               CF   90+1   \n",
       "1           FC Barcelona  Panathinaikos Athens    5:0               RW     34   \n",
       "2           FC Barcelona      Racing Santander    4:1               RW     51   \n",
       "3           FC Barcelona       Athletic Bilbao    2:1               RW     50   \n",
       "4           FC Barcelona      Deportivo Alaves    2:0               CF     82   \n",
       "..                   ...                   ...    ...              ...    ...   \n",
       "678  Paris Saint-Germain            LOSC Lille    1:5               CF     38   \n",
       "679  Paris Saint-Germain            FC Lorient    5:1               RW     73   \n",
       "680  Paris Saint-Germain               RC Lens    1:1               RW     68   \n",
       "681  Paris Saint-Germain           Montpellier    0:4               CF      6   \n",
       "682  Paris Saint-Germain           Montpellier    0:4               CF     20   \n",
       "\n",
       "    At_score              Type        Goal_assist  \n",
       "0        2:0  Left-footed shot  Ronaldinho Gaacho  \n",
       "1        3:0  Left-footed shot                NaN  \n",
       "2        2:0  Left-footed shot        Samuel Etoo  \n",
       "3        2:1  Left-footed shot    Mark van Bommel  \n",
       "4        2:0  Left-footed shot  Ronaldinho Gaacho  \n",
       "..       ...               ...                ...  \n",
       "678      1:3  Left-footed shot                NaN  \n",
       "679      4:1  Left-footed shot      Kylian Mbappe  \n",
       "680      1:0  Left-footed shot             Neymar  \n",
       "681      0:1  Left-footed shot      Kylian Mbappé  \n",
       "682      0:2  Left-footed shot      Kylian Mbappé  \n",
       "\n",
       "[683 rows x 13 columns]"
      ]
     },
     "execution_count": 10,
     "metadata": {},
     "output_type": "execute_result"
    }
   ],
   "source": [
    "df"
   ]
  },
  {
   "cell_type": "code",
   "execution_count": 11,
   "metadata": {},
   "outputs": [
    {
     "name": "stdout",
     "output_type": "stream",
     "text": [
      "<class 'pandas.core.frame.DataFrame'>\n",
      "RangeIndex: 683 entries, 0 to 682\n",
      "Data columns (total 13 columns):\n",
      " #   Column            Non-Null Count  Dtype \n",
      "---  ------            --------------  ----- \n",
      " 0   Season            683 non-null    object\n",
      " 1   Competition       683 non-null    object\n",
      " 2   Matchday          683 non-null    object\n",
      " 3   Date              683 non-null    object\n",
      " 4   Venue             683 non-null    object\n",
      " 5   Club              683 non-null    object\n",
      " 6   Opponent          683 non-null    object\n",
      " 7   Result            683 non-null    object\n",
      " 8   Playing_Position  683 non-null    object\n",
      " 9   Minute            683 non-null    object\n",
      " 10  At_score          683 non-null    object\n",
      " 11  Type              682 non-null    object\n",
      " 12  Goal_assist       474 non-null    object\n",
      "dtypes: object(13)\n",
      "memory usage: 69.5+ KB\n"
     ]
    }
   ],
   "source": [
    "df.info()"
   ]
  },
  {
   "cell_type": "markdown",
   "metadata": {},
   "source": [
    "##### Goal_assist:\n",
    "We see in dataset information in Gaol_assist column, there is null value. But it's not error. There are some goal which is not assisted by others player.\n",
    "\n",
    "##### Type:\n",
    "In Type column, there is 1 null value. But we won't remove this row, because the goal is not error."
   ]
  },
  {
   "cell_type": "markdown",
   "metadata": {},
   "source": [
    "##### Observing & modifying Goal_assist column"
   ]
  },
  {
   "cell_type": "code",
   "execution_count": 12,
   "metadata": {
    "scrolled": true
   },
   "outputs": [
    {
     "data": {
      "text/plain": [
       "array(['Ronaldinho Gaacho', nan, 'Samuel Etoo', 'Mark van Bommel',\n",
       "       'Sylvinho', 'Ludovic Giuly', 'Andres Iniesta', 'Deco', 'Xavi',\n",
       "       'Giovanni van Bronckhorst', 'Gianluca Zambrotta', 'Thierry Henry',\n",
       "       'Bojan Krkic', 'Dani Alves', 'Aleksandr Hleb', 'Gerard Pique',\n",
       "       'Zlatan Ibrahimovic', 'Pedro', 'Ã‰ric Abidal', 'Yaya Toure',\n",
       "       'Seydou Keita', 'Maxwell', 'David Villa', 'Thiago', 'Adriano',\n",
       "       'Ibrahim Afellay', 'Sergio Busquets', 'Cesc Fabregas',\n",
       "       'Alexis Sanchez', 'Cristian Tello', 'Isaac Cuenca', 'Jordi Alba',\n",
       "       'Marta Montoya', 'Neymar', 'Alex Song', 'Antonio Amaya',\n",
       "       'Marc Bartra', 'Rafinha', 'Luis Suarez', 'Ivan Rakitic',\n",
       "       'Arda Turan', 'Munir El Haddadi', 'Lucas Digne', 'Sergi Roberto',\n",
       "       'Javier Mascherano', 'Paco Alcacer', 'Paulinho', 'Aleix Vidal',\n",
       "       'Denis Suarez', 'Ousmane Dembele', 'Philippe Coutinho',\n",
       "       'Arturo Vidal', 'Nelson Semedo', 'Malcom', 'Clement Lenglet',\n",
       "       'Antoine Griezmann', 'Arthur', 'Frenkie de Jong', 'Riqui Puig',\n",
       "       'Francisco TrincÃ£o', 'Pedri', 'Martin Braithwaite',\n",
       "       'Ilaix Moriba', 'Kylian Mbappe', 'Kylian Mbappé'], dtype=object)"
      ]
     },
     "execution_count": 12,
     "metadata": {},
     "output_type": "execute_result"
    }
   ],
   "source": [
    "df.Goal_assist.unique()"
   ]
  },
  {
   "cell_type": "markdown",
   "metadata": {},
   "source": [
    "See there is a 'nan' value . Though it's not error. We will replace this nan value by 'Own'"
   ]
  },
  {
   "cell_type": "code",
   "execution_count": 13,
   "metadata": {},
   "outputs": [],
   "source": [
    "import numpy as np\n",
    "\n",
    "df['Goal_assist'] = df['Goal_assist'].replace(np.nan, 'Own')"
   ]
  },
  {
   "cell_type": "code",
   "execution_count": 14,
   "metadata": {},
   "outputs": [
    {
     "data": {
      "text/plain": [
       "array(['Ronaldinho Gaacho', 'Own', 'Samuel Etoo', 'Mark van Bommel',\n",
       "       'Sylvinho', 'Ludovic Giuly', 'Andres Iniesta', 'Deco', 'Xavi',\n",
       "       'Giovanni van Bronckhorst', 'Gianluca Zambrotta', 'Thierry Henry',\n",
       "       'Bojan Krkic', 'Dani Alves', 'Aleksandr Hleb', 'Gerard Pique',\n",
       "       'Zlatan Ibrahimovic', 'Pedro', 'Ã‰ric Abidal', 'Yaya Toure',\n",
       "       'Seydou Keita', 'Maxwell', 'David Villa', 'Thiago', 'Adriano',\n",
       "       'Ibrahim Afellay', 'Sergio Busquets', 'Cesc Fabregas',\n",
       "       'Alexis Sanchez', 'Cristian Tello', 'Isaac Cuenca', 'Jordi Alba',\n",
       "       'Marta Montoya', 'Neymar', 'Alex Song', 'Antonio Amaya',\n",
       "       'Marc Bartra', 'Rafinha', 'Luis Suarez', 'Ivan Rakitic',\n",
       "       'Arda Turan', 'Munir El Haddadi', 'Lucas Digne', 'Sergi Roberto',\n",
       "       'Javier Mascherano', 'Paco Alcacer', 'Paulinho', 'Aleix Vidal',\n",
       "       'Denis Suarez', 'Ousmane Dembele', 'Philippe Coutinho',\n",
       "       'Arturo Vidal', 'Nelson Semedo', 'Malcom', 'Clement Lenglet',\n",
       "       'Antoine Griezmann', 'Arthur', 'Frenkie de Jong', 'Riqui Puig',\n",
       "       'Francisco TrincÃ£o', 'Pedri', 'Martin Braithwaite',\n",
       "       'Ilaix Moriba', 'Kylian Mbappe', 'Kylian Mbappé'], dtype=object)"
      ]
     },
     "execution_count": 14,
     "metadata": {},
     "output_type": "execute_result"
    }
   ],
   "source": [
    "df.Goal_assist.unique()"
   ]
  },
  {
   "cell_type": "code",
   "execution_count": 15,
   "metadata": {},
   "outputs": [
    {
     "name": "stdout",
     "output_type": "stream",
     "text": [
      "<class 'pandas.core.frame.DataFrame'>\n",
      "RangeIndex: 683 entries, 0 to 682\n",
      "Data columns (total 13 columns):\n",
      " #   Column            Non-Null Count  Dtype \n",
      "---  ------            --------------  ----- \n",
      " 0   Season            683 non-null    object\n",
      " 1   Competition       683 non-null    object\n",
      " 2   Matchday          683 non-null    object\n",
      " 3   Date              683 non-null    object\n",
      " 4   Venue             683 non-null    object\n",
      " 5   Club              683 non-null    object\n",
      " 6   Opponent          683 non-null    object\n",
      " 7   Result            683 non-null    object\n",
      " 8   Playing_Position  683 non-null    object\n",
      " 9   Minute            683 non-null    object\n",
      " 10  At_score          683 non-null    object\n",
      " 11  Type              682 non-null    object\n",
      " 12  Goal_assist       683 non-null    object\n",
      "dtypes: object(13)\n",
      "memory usage: 69.5+ KB\n"
     ]
    }
   ],
   "source": [
    "df.info()"
   ]
  },
  {
   "cell_type": "markdown",
   "metadata": {},
   "source": [
    "Now, there is no empty cells in Goal_assist"
   ]
  },
  {
   "cell_type": "markdown",
   "metadata": {},
   "source": [
    "##### Observing Others"
   ]
  },
  {
   "cell_type": "code",
   "execution_count": 16,
   "metadata": {},
   "outputs": [
    {
     "data": {
      "text/html": [
       "<div>\n",
       "<style scoped>\n",
       "    .dataframe tbody tr th:only-of-type {\n",
       "        vertical-align: middle;\n",
       "    }\n",
       "\n",
       "    .dataframe tbody tr th {\n",
       "        vertical-align: top;\n",
       "    }\n",
       "\n",
       "    .dataframe thead th {\n",
       "        text-align: right;\n",
       "    }\n",
       "</style>\n",
       "<table border=\"1\" class=\"dataframe\">\n",
       "  <thead>\n",
       "    <tr style=\"text-align: right;\">\n",
       "      <th></th>\n",
       "      <th>Season</th>\n",
       "      <th>Competition</th>\n",
       "      <th>Matchday</th>\n",
       "      <th>Date</th>\n",
       "      <th>Venue</th>\n",
       "      <th>Club</th>\n",
       "      <th>Opponent</th>\n",
       "      <th>Result</th>\n",
       "      <th>Playing_Position</th>\n",
       "      <th>Minute</th>\n",
       "      <th>At_score</th>\n",
       "      <th>Type</th>\n",
       "      <th>Goal_assist</th>\n",
       "    </tr>\n",
       "  </thead>\n",
       "  <tbody>\n",
       "    <tr>\n",
       "      <th>count</th>\n",
       "      <td>683</td>\n",
       "      <td>683</td>\n",
       "      <td>683</td>\n",
       "      <td>683</td>\n",
       "      <td>683</td>\n",
       "      <td>683</td>\n",
       "      <td>683</td>\n",
       "      <td>683</td>\n",
       "      <td>683</td>\n",
       "      <td>683</td>\n",
       "      <td>683</td>\n",
       "      <td>682</td>\n",
       "      <td>683</td>\n",
       "    </tr>\n",
       "    <tr>\n",
       "      <th>unique</th>\n",
       "      <td>18</td>\n",
       "      <td>7</td>\n",
       "      <td>48</td>\n",
       "      <td>439</td>\n",
       "      <td>2</td>\n",
       "      <td>2</td>\n",
       "      <td>88</td>\n",
       "      <td>46</td>\n",
       "      <td>9</td>\n",
       "      <td>96</td>\n",
       "      <td>38</td>\n",
       "      <td>12</td>\n",
       "      <td>65</td>\n",
       "    </tr>\n",
       "    <tr>\n",
       "      <th>top</th>\n",
       "      <td>11/12</td>\n",
       "      <td>LaLiga</td>\n",
       "      <td>Group Stage</td>\n",
       "      <td>3/7/12</td>\n",
       "      <td>H</td>\n",
       "      <td>FC Barcelona</td>\n",
       "      <td>Sevilla FC</td>\n",
       "      <td>4:0</td>\n",
       "      <td>CF</td>\n",
       "      <td>55</td>\n",
       "      <td>1:0</td>\n",
       "      <td>Left-footed shot</td>\n",
       "      <td>Own</td>\n",
       "    </tr>\n",
       "    <tr>\n",
       "      <th>freq</th>\n",
       "      <td>73</td>\n",
       "      <td>474</td>\n",
       "      <td>76</td>\n",
       "      <td>5</td>\n",
       "      <td>410</td>\n",
       "      <td>672</td>\n",
       "      <td>38</td>\n",
       "      <td>45</td>\n",
       "      <td>266</td>\n",
       "      <td>13</td>\n",
       "      <td>96</td>\n",
       "      <td>422</td>\n",
       "      <td>209</td>\n",
       "    </tr>\n",
       "  </tbody>\n",
       "</table>\n",
       "</div>"
      ],
      "text/plain": [
       "       Season Competition     Matchday    Date Venue          Club  \\\n",
       "count     683         683          683     683   683           683   \n",
       "unique     18           7           48     439     2             2   \n",
       "top     11/12      LaLiga  Group Stage  3/7/12     H  FC Barcelona   \n",
       "freq       73         474           76       5   410           672   \n",
       "\n",
       "          Opponent Result Playing_Position Minute At_score              Type  \\\n",
       "count          683    683              683    683      683               682   \n",
       "unique          88     46                9     96       38                12   \n",
       "top     Sevilla FC    4:0               CF     55      1:0  Left-footed shot   \n",
       "freq            38     45              266     13       96               422   \n",
       "\n",
       "       Goal_assist  \n",
       "count          683  \n",
       "unique          65  \n",
       "top            Own  \n",
       "freq           209  "
      ]
     },
     "execution_count": 16,
     "metadata": {},
     "output_type": "execute_result"
    }
   ],
   "source": [
    "df.describe()"
   ]
  },
  {
   "cell_type": "markdown",
   "metadata": {},
   "source": [
    "There is no error"
   ]
  },
  {
   "cell_type": "code",
   "execution_count": 17,
   "metadata": {},
   "outputs": [],
   "source": [
    "import jovian"
   ]
  },
  {
   "cell_type": "code",
   "execution_count": 18,
   "metadata": {},
   "outputs": [
    {
     "data": {
      "application/javascript": [
       "window.require && require([\"base/js/namespace\"],function(Jupyter){Jupyter.notebook.save_checkpoint()})"
      ],
      "text/plain": [
       "<IPython.core.display.Javascript object>"
      ]
     },
     "metadata": {},
     "output_type": "display_data"
    },
    {
     "name": "stdout",
     "output_type": "stream",
     "text": [
      "[jovian] Updating notebook \"asad-cuet/messis-all-club-goals-analysis-02a07\" on https://jovian.ai\u001b[0m\n",
      "[jovian] Committed successfully! https://jovian.ai/asad-cuet/messis-all-club-goals-analysis-02a07\u001b[0m\n"
     ]
    },
    {
     "data": {
      "text/plain": [
       "'https://jovian.ai/asad-cuet/messis-all-club-goals-analysis-02a07'"
      ]
     },
     "execution_count": 18,
     "metadata": {},
     "output_type": "execute_result"
    }
   ],
   "source": [
    "jovian.commit()"
   ]
  },
  {
   "cell_type": "markdown",
   "metadata": {},
   "source": [
    "## Exploratory Analysis and Visualization\n",
    "\n",
    "We will visualize data distribution of different columns here.\n",
    "\n"
   ]
  },
  {
   "cell_type": "markdown",
   "metadata": {},
   "source": [
    "Let's begin by importing`matplotlib.pyplot` and `seaborn`."
   ]
  },
  {
   "cell_type": "code",
   "execution_count": 19,
   "metadata": {},
   "outputs": [],
   "source": [
    "import seaborn as sns\n",
    "import matplotlib\n",
    "import matplotlib.pyplot as plt\n",
    "%matplotlib inline\n",
    "\n",
    "sns.set_style('darkgrid')\n",
    "matplotlib.rcParams['font.size'] = 14\n",
    "matplotlib.rcParams['figure.figsize'] = (9, 5)\n",
    "matplotlib.rcParams['figure.facecolor'] = '#00000000'"
   ]
  },
  {
   "cell_type": "markdown",
   "metadata": {
    "heading_collapsed": true
   },
   "source": [
    "##### Visualizing here, in which season messi did  most goals"
   ]
  },
  {
   "cell_type": "code",
   "execution_count": 20,
   "metadata": {
    "hidden": true
   },
   "outputs": [
    {
     "data": {
      "text/plain": [
       "array(['04/05', '05/06', '06/07', '07/08', '08/09', '09/10', '10/11',\n",
       "       '11/12', '12/13', '13/14', '14/15', '15/16', '16/17', '17/18',\n",
       "       '18/19', '19/20', '20/21', '21/22'], dtype=object)"
      ]
     },
     "execution_count": 20,
     "metadata": {},
     "output_type": "execute_result"
    }
   ],
   "source": [
    "df.Season.unique()"
   ]
  },
  {
   "cell_type": "code",
   "execution_count": 21,
   "metadata": {
    "hidden": true
   },
   "outputs": [
    {
     "data": {
      "text/plain": [
       "11/12    73\n",
       "12/13    60\n",
       "14/15    58\n",
       "16/17    54\n",
       "10/11    53\n",
       "18/19    51\n",
       "09/10    47\n",
       "17/18    45\n",
       "13/14    41\n",
       "15/16    41\n",
       "08/09    38\n",
       "20/21    38\n",
       "19/20    31\n",
       "06/07    17\n",
       "07/08    16\n",
       "21/22    11\n",
       "05/06     8\n",
       "04/05     1\n",
       "Name: Season, dtype: int64"
      ]
     },
     "execution_count": 21,
     "metadata": {},
     "output_type": "execute_result"
    }
   ],
   "source": [
    "goal_in_season = df.Season.value_counts()\n",
    "\n",
    "goal_in_season"
   ]
  },
  {
   "cell_type": "code",
   "execution_count": 22,
   "metadata": {
    "hidden": true,
    "scrolled": true
   },
   "outputs": [
    {
     "data": {
      "text/plain": [
       "Text(0, 0.5, 'Season')"
      ]
     },
     "execution_count": 22,
     "metadata": {},
     "output_type": "execute_result"
    },
    {
     "data": {
      "image/png": "[encoded data removed]",
      "text/plain": [
       "<Figure size 648x360 with 1 Axes>"
      ]
     },
     "metadata": {
      "needs_background": "light"
     },
     "output_type": "display_data"
    }
   ],
   "source": [
    "sns.barplot(\n",
    "x=goal_in_season,\n",
    "y=goal_in_season.index,\n",
    "data=df\n",
    ");\n",
    "\n",
    "plt.title('Goals in Season')\n",
    "plt.xlabel('Goals')\n",
    "plt.ylabel('Season')\n"
   ]
  },
  {
   "cell_type": "markdown",
   "metadata": {
    "hidden": true
   },
   "source": [
    "We see, Messi did most goals in 11/12 season and that is 73 goals"
   ]
  },
  {
   "cell_type": "markdown",
   "metadata": {
    "hidden": true
   },
   "source": [
    "We see in 11/12 season messi did most goals 73. And 2nd highest is 12/13 season that is 60 goals"
   ]
  },
  {
   "cell_type": "markdown",
   "metadata": {
    "heading_collapsed": true
   },
   "source": [
    "##### Visualizing here, in which competition messi did most goals"
   ]
  },
  {
   "cell_type": "code",
   "execution_count": 23,
   "metadata": {
    "hidden": true,
    "scrolled": false
   },
   "outputs": [
    {
     "data": {
      "text/plain": [
       "array(['LaLiga', 'UEFA Champions League', 'Copa del Rey', 'Supercopa',\n",
       "       'FIFA Club World Cup', 'UEFA Super Cup', 'Ligue 1'], dtype=object)"
      ]
     },
     "execution_count": 23,
     "metadata": {},
     "output_type": "execute_result"
    }
   ],
   "source": [
    "df.Competition.unique()"
   ]
  },
  {
   "cell_type": "code",
   "execution_count": 24,
   "metadata": {
    "hidden": true
   },
   "outputs": [
    {
     "data": {
      "text/plain": [
       "LaLiga                   474\n",
       "UEFA Champions League    125\n",
       "Copa del Rey              56\n",
       "Supercopa                 14\n",
       "Ligue 1                    6\n",
       "FIFA Club World Cup        5\n",
       "UEFA Super Cup             3\n",
       "Name: Competition, dtype: int64"
      ]
     },
     "execution_count": 24,
     "metadata": {},
     "output_type": "execute_result"
    }
   ],
   "source": [
    "competition_goals=df.Competition.value_counts()\n",
    "competition_goals"
   ]
  },
  {
   "cell_type": "code",
   "execution_count": 25,
   "metadata": {
    "hidden": true,
    "scrolled": true
   },
   "outputs": [
    {
     "data": {
      "text/plain": [
       "Text(0, 0.5, 'Tournaments')"
      ]
     },
     "execution_count": 25,
     "metadata": {},
     "output_type": "execute_result"
    },
    {
     "data": {
      "image/png": "[encoded data removed]",
      "text/plain": [
       "<Figure size 648x360 with 1 Axes>"
      ]
     },
     "metadata": {
      "needs_background": "light"
     },
     "output_type": "display_data"
    }
   ],
   "source": [
    "sns.barplot(\n",
    "x=competition_goals,\n",
    "y=competition_goals.index,\n",
    "data=df\n",
    ");\n",
    "\n",
    "plt.title('Goals in Tournaments')\n",
    "plt.xlabel('Goals')\n",
    "plt.ylabel('Tournaments')\n"
   ]
  },
  {
   "cell_type": "markdown",
   "metadata": {
    "hidden": true
   },
   "source": [
    "We see, Messi did most goals in Laliga and that is 474"
   ]
  },
  {
   "cell_type": "markdown",
   "metadata": {
    "heading_collapsed": true
   },
   "source": [
    "##### Visualizing here, in which opponent messi did most goals"
   ]
  },
  {
   "cell_type": "code",
   "execution_count": 26,
   "metadata": {
    "hidden": true
   },
   "outputs": [
    {
     "data": {
      "text/plain": [
       "Sevilla FC                38\n",
       "Atletico de Madrid        32\n",
       "Valencia CF               31\n",
       "Athletic Bilbao           29\n",
       "Real Madrid               26\n",
       "                          ..\n",
       "Sporting CP                1\n",
       "Benidorm CD                1\n",
       "Rangers FC                 1\n",
       "SV Werder Bremen           1\n",
       "Club Atletico de Ceuta     1\n",
       "Name: Opponent, Length: 88, dtype: int64"
      ]
     },
     "execution_count": 26,
     "metadata": {},
     "output_type": "execute_result"
    }
   ],
   "source": [
    "opponent_goals=df.Opponent.value_counts()\n",
    "opponent_goals"
   ]
  },
  {
   "cell_type": "code",
   "execution_count": 27,
   "metadata": {
    "hidden": true,
    "scrolled": true
   },
   "outputs": [
    {
     "data": {
      "text/plain": [
       "Text(0, 0.5, 'Opponents')"
      ]
     },
     "execution_count": 27,
     "metadata": {},
     "output_type": "execute_result"
    },
    {
     "data": {
      "image/png": "[encoded data removed]",
      "text/plain": [
       "<Figure size 1152x2160 with 1 Axes>"
      ]
     },
     "metadata": {
      "needs_background": "light"
     },
     "output_type": "display_data"
    }
   ],
   "source": [
    "plt.figure(figsize=(16,30))\n",
    "sns.barplot(\n",
    "x=opponent_goals,\n",
    "y=opponent_goals.index,\n",
    "data=df\n",
    ");\n",
    "\n",
    "plt.title('Goals against Opponents')\n",
    "plt.xlabel('Goals')\n",
    "plt.ylabel('Opponents')\n"
   ]
  },
  {
   "cell_type": "markdown",
   "metadata": {
    "hidden": true
   },
   "source": [
    "We see, Messi did highest goals against Sevilla Fc"
   ]
  },
  {
   "cell_type": "markdown",
   "metadata": {
    "heading_collapsed": true
   },
   "source": [
    "##### Visualizing here, messi's Laliga goals"
   ]
  },
  {
   "cell_type": "code",
   "execution_count": 28,
   "metadata": {
    "hidden": true
   },
   "outputs": [
    {
     "data": {
      "text/html": [
       "<div>\n",
       "<style scoped>\n",
       "    .dataframe tbody tr th:only-of-type {\n",
       "        vertical-align: middle;\n",
       "    }\n",
       "\n",
       "    .dataframe tbody tr th {\n",
       "        vertical-align: top;\n",
       "    }\n",
       "\n",
       "    .dataframe thead th {\n",
       "        text-align: right;\n",
       "    }\n",
       "</style>\n",
       "<table border=\"1\" class=\"dataframe\">\n",
       "  <thead>\n",
       "    <tr style=\"text-align: right;\">\n",
       "      <th></th>\n",
       "      <th>Season</th>\n",
       "      <th>Competition</th>\n",
       "      <th>Matchday</th>\n",
       "      <th>Date</th>\n",
       "      <th>Venue</th>\n",
       "      <th>Club</th>\n",
       "      <th>Opponent</th>\n",
       "      <th>Result</th>\n",
       "      <th>Playing_Position</th>\n",
       "      <th>Minute</th>\n",
       "      <th>At_score</th>\n",
       "      <th>Type</th>\n",
       "      <th>Goal_assist</th>\n",
       "    </tr>\n",
       "  </thead>\n",
       "  <tbody>\n",
       "    <tr>\n",
       "      <th>0</th>\n",
       "      <td>04/05</td>\n",
       "      <td>LaLiga</td>\n",
       "      <td>34</td>\n",
       "      <td>5/1/05</td>\n",
       "      <td>H</td>\n",
       "      <td>FC Barcelona</td>\n",
       "      <td>Albacete Balompie</td>\n",
       "      <td>2:0</td>\n",
       "      <td>CF</td>\n",
       "      <td>90+1</td>\n",
       "      <td>2:0</td>\n",
       "      <td>Left-footed shot</td>\n",
       "      <td>Ronaldinho Gaacho</td>\n",
       "    </tr>\n",
       "    <tr>\n",
       "      <th>2</th>\n",
       "      <td>05/06</td>\n",
       "      <td>LaLiga</td>\n",
       "      <td>13</td>\n",
       "      <td>11/27/05</td>\n",
       "      <td>H</td>\n",
       "      <td>FC Barcelona</td>\n",
       "      <td>Racing Santander</td>\n",
       "      <td>4:1</td>\n",
       "      <td>RW</td>\n",
       "      <td>51</td>\n",
       "      <td>2:0</td>\n",
       "      <td>Left-footed shot</td>\n",
       "      <td>Samuel Etoo</td>\n",
       "    </tr>\n",
       "    <tr>\n",
       "      <th>3</th>\n",
       "      <td>05/06</td>\n",
       "      <td>LaLiga</td>\n",
       "      <td>19</td>\n",
       "      <td>1/15/06</td>\n",
       "      <td>H</td>\n",
       "      <td>FC Barcelona</td>\n",
       "      <td>Athletic Bilbao</td>\n",
       "      <td>2:1</td>\n",
       "      <td>RW</td>\n",
       "      <td>50</td>\n",
       "      <td>2:1</td>\n",
       "      <td>Left-footed shot</td>\n",
       "      <td>Mark van Bommel</td>\n",
       "    </tr>\n",
       "    <tr>\n",
       "      <th>4</th>\n",
       "      <td>05/06</td>\n",
       "      <td>LaLiga</td>\n",
       "      <td>20</td>\n",
       "      <td>1/22/06</td>\n",
       "      <td>H</td>\n",
       "      <td>FC Barcelona</td>\n",
       "      <td>Deportivo Alaves</td>\n",
       "      <td>2:0</td>\n",
       "      <td>CF</td>\n",
       "      <td>82</td>\n",
       "      <td>2:0</td>\n",
       "      <td>Left-footed shot</td>\n",
       "      <td>Ronaldinho Gaacho</td>\n",
       "    </tr>\n",
       "    <tr>\n",
       "      <th>5</th>\n",
       "      <td>05/06</td>\n",
       "      <td>LaLiga</td>\n",
       "      <td>21</td>\n",
       "      <td>1/29/06</td>\n",
       "      <td>A</td>\n",
       "      <td>FC Barcelona</td>\n",
       "      <td>RCD Mallorca</td>\n",
       "      <td>0:3</td>\n",
       "      <td>CF</td>\n",
       "      <td>75</td>\n",
       "      <td>0:2</td>\n",
       "      <td>Right-footed shot</td>\n",
       "      <td>Sylvinho</td>\n",
       "    </tr>\n",
       "    <tr>\n",
       "      <th>...</th>\n",
       "      <td>...</td>\n",
       "      <td>...</td>\n",
       "      <td>...</td>\n",
       "      <td>...</td>\n",
       "      <td>...</td>\n",
       "      <td>...</td>\n",
       "      <td>...</td>\n",
       "      <td>...</td>\n",
       "      <td>...</td>\n",
       "      <td>...</td>\n",
       "      <td>...</td>\n",
       "      <td>...</td>\n",
       "      <td>...</td>\n",
       "    </tr>\n",
       "    <tr>\n",
       "      <th>667</th>\n",
       "      <td>20/21</td>\n",
       "      <td>LaLiga</td>\n",
       "      <td>33</td>\n",
       "      <td>4/29/21</td>\n",
       "      <td>H</td>\n",
       "      <td>FC Barcelona</td>\n",
       "      <td>Granada CF</td>\n",
       "      <td>1:2</td>\n",
       "      <td>CF</td>\n",
       "      <td>23</td>\n",
       "      <td>1:0</td>\n",
       "      <td>Left-footed shot</td>\n",
       "      <td>Antoine Griezmann</td>\n",
       "    </tr>\n",
       "    <tr>\n",
       "      <th>668</th>\n",
       "      <td>20/21</td>\n",
       "      <td>LaLiga</td>\n",
       "      <td>34</td>\n",
       "      <td>5/2/21</td>\n",
       "      <td>A</td>\n",
       "      <td>FC Barcelona</td>\n",
       "      <td>Valencia CF</td>\n",
       "      <td>2:3</td>\n",
       "      <td>CF</td>\n",
       "      <td>57</td>\n",
       "      <td>1:1</td>\n",
       "      <td>Left-footed shot</td>\n",
       "      <td>Own</td>\n",
       "    </tr>\n",
       "    <tr>\n",
       "      <th>669</th>\n",
       "      <td>20/21</td>\n",
       "      <td>LaLiga</td>\n",
       "      <td>34</td>\n",
       "      <td>5/2/21</td>\n",
       "      <td>A</td>\n",
       "      <td>FC Barcelona</td>\n",
       "      <td>Valencia CF</td>\n",
       "      <td>2:3</td>\n",
       "      <td>CF</td>\n",
       "      <td>69</td>\n",
       "      <td>1:3</td>\n",
       "      <td>Direct free kick</td>\n",
       "      <td>Own</td>\n",
       "    </tr>\n",
       "    <tr>\n",
       "      <th>670</th>\n",
       "      <td>20/21</td>\n",
       "      <td>LaLiga</td>\n",
       "      <td>36</td>\n",
       "      <td>5/11/21</td>\n",
       "      <td>A</td>\n",
       "      <td>FC Barcelona</td>\n",
       "      <td>Levante UD</td>\n",
       "      <td>3:3</td>\n",
       "      <td>SS</td>\n",
       "      <td>25</td>\n",
       "      <td>0:1</td>\n",
       "      <td>Left-footed shot</td>\n",
       "      <td>Own</td>\n",
       "    </tr>\n",
       "    <tr>\n",
       "      <th>671</th>\n",
       "      <td>20/21</td>\n",
       "      <td>LaLiga</td>\n",
       "      <td>37</td>\n",
       "      <td>5/16/21</td>\n",
       "      <td>H</td>\n",
       "      <td>FC Barcelona</td>\n",
       "      <td>Celta de Vigo</td>\n",
       "      <td>1:2</td>\n",
       "      <td>SS</td>\n",
       "      <td>28</td>\n",
       "      <td>1:0</td>\n",
       "      <td>Header</td>\n",
       "      <td>Sergio Busquets</td>\n",
       "    </tr>\n",
       "  </tbody>\n",
       "</table>\n",
       "<p>474 rows × 13 columns</p>\n",
       "</div>"
      ],
      "text/plain": [
       "    Season Competition Matchday      Date Venue          Club  \\\n",
       "0    04/05      LaLiga       34    5/1/05     H  FC Barcelona   \n",
       "2    05/06      LaLiga       13  11/27/05     H  FC Barcelona   \n",
       "3    05/06      LaLiga       19   1/15/06     H  FC Barcelona   \n",
       "4    05/06      LaLiga       20   1/22/06     H  FC Barcelona   \n",
       "5    05/06      LaLiga       21   1/29/06     A  FC Barcelona   \n",
       "..     ...         ...      ...       ...   ...           ...   \n",
       "667  20/21      LaLiga       33   4/29/21     H  FC Barcelona   \n",
       "668  20/21      LaLiga       34    5/2/21     A  FC Barcelona   \n",
       "669  20/21      LaLiga       34    5/2/21     A  FC Barcelona   \n",
       "670  20/21      LaLiga       36   5/11/21     A  FC Barcelona   \n",
       "671  20/21      LaLiga       37   5/16/21     H  FC Barcelona   \n",
       "\n",
       "              Opponent Result Playing_Position Minute At_score  \\\n",
       "0    Albacete Balompie    2:0               CF   90+1      2:0   \n",
       "2     Racing Santander    4:1               RW     51      2:0   \n",
       "3      Athletic Bilbao    2:1               RW     50      2:1   \n",
       "4     Deportivo Alaves    2:0               CF     82      2:0   \n",
       "5         RCD Mallorca    0:3               CF     75      0:2   \n",
       "..                 ...    ...              ...    ...      ...   \n",
       "667         Granada CF    1:2              CF      23      1:0   \n",
       "668        Valencia CF    2:3              CF      57      1:1   \n",
       "669        Valencia CF    2:3              CF      69      1:3   \n",
       "670         Levante UD    3:3              SS      25      0:1   \n",
       "671      Celta de Vigo    1:2              SS      28      1:0   \n",
       "\n",
       "                  Type        Goal_assist  \n",
       "0     Left-footed shot  Ronaldinho Gaacho  \n",
       "2     Left-footed shot        Samuel Etoo  \n",
       "3     Left-footed shot    Mark van Bommel  \n",
       "4     Left-footed shot  Ronaldinho Gaacho  \n",
       "5    Right-footed shot           Sylvinho  \n",
       "..                 ...                ...  \n",
       "667   Left-footed shot  Antoine Griezmann  \n",
       "668   Left-footed shot                Own  \n",
       "669   Direct free kick                Own  \n",
       "670   Left-footed shot                Own  \n",
       "671             Header    Sergio Busquets  \n",
       "\n",
       "[474 rows x 13 columns]"
      ]
     },
     "execution_count": 28,
     "metadata": {},
     "output_type": "execute_result"
    }
   ],
   "source": [
    "laliga_df=df[df['Competition']=='LaLiga']\n",
    "\n",
    "laliga_df"
   ]
  },
  {
   "cell_type": "code",
   "execution_count": 29,
   "metadata": {
    "hidden": true
   },
   "outputs": [
    {
     "data": {
      "text/plain": [
       "11/12    50\n",
       "12/13    46\n",
       "14/15    43\n",
       "16/17    37\n",
       "18/19    36\n",
       "17/18    34\n",
       "09/10    34\n",
       "10/11    31\n",
       "20/21    30\n",
       "13/14    28\n",
       "15/16    26\n",
       "19/20    25\n",
       "08/09    23\n",
       "06/07    14\n",
       "07/08    10\n",
       "05/06     6\n",
       "04/05     1\n",
       "Name: Season, dtype: int64"
      ]
     },
     "execution_count": 29,
     "metadata": {},
     "output_type": "execute_result"
    }
   ],
   "source": [
    "laliga_goals=laliga_df.Season.value_counts()\n",
    "\n",
    "laliga_goals"
   ]
  },
  {
   "cell_type": "code",
   "execution_count": 30,
   "metadata": {
    "hidden": true
   },
   "outputs": [
    {
     "data": {
      "text/plain": [
       "Text(0, 0.5, 'Season')"
      ]
     },
     "execution_count": 30,
     "metadata": {},
     "output_type": "execute_result"
    },
    {
     "data": {
      "image/png": "[encoded data removed]",
      "text/plain": [
       "<Figure size 648x360 with 1 Axes>"
      ]
     },
     "metadata": {
      "needs_background": "light"
     },
     "output_type": "display_data"
    }
   ],
   "source": [
    "sns.barplot(\n",
    "x=laliga_goals,\n",
    "y=laliga_goals.index,\n",
    "data=df\n",
    ");\n",
    "\n",
    "plt.title('Goals in Laliga in different season')\n",
    "plt.xlabel('Goals')\n",
    "plt.ylabel('Season')"
   ]
  },
  {
   "cell_type": "markdown",
   "metadata": {
    "hidden": true
   },
   "source": [
    "Wee see, messi did most goals in laliga in 11/12 season"
   ]
  },
  {
   "cell_type": "markdown",
   "metadata": {
    "hidden": true
   },
   "source": [
    "Let us save and upload our work to Jovian before continuing"
   ]
  },
  {
   "cell_type": "code",
   "execution_count": 31,
   "metadata": {
    "hidden": true
   },
   "outputs": [],
   "source": [
    "import jovian"
   ]
  },
  {
   "cell_type": "code",
   "execution_count": 32,
   "metadata": {
    "hidden": true
   },
   "outputs": [
    {
     "data": {
      "application/javascript": [
       "window.require && require([\"base/js/namespace\"],function(Jupyter){Jupyter.notebook.save_checkpoint()})"
      ],
      "text/plain": [
       "<IPython.core.display.Javascript object>"
      ]
     },
     "metadata": {},
     "output_type": "display_data"
    },
    {
     "name": "stdout",
     "output_type": "stream",
     "text": [
      "[jovian] Updating notebook \"asad-cuet/messis-all-club-goals-analysis-02a07\" on https://jovian.ai\u001b[0m\n",
      "[jovian] Committed successfully! https://jovian.ai/asad-cuet/messis-all-club-goals-analysis-02a07\u001b[0m\n"
     ]
    },
    {
     "data": {
      "text/plain": [
       "'https://jovian.ai/asad-cuet/messis-all-club-goals-analysis-02a07'"
      ]
     },
     "execution_count": 32,
     "metadata": {},
     "output_type": "execute_result"
    }
   ],
   "source": [
    "jovian.commit()"
   ]
  },
  {
   "cell_type": "markdown",
   "metadata": {},
   "source": [
    "## Asking and Answering Questions\n",
    "\n",
    "We will know more about Messi's goal here.\n",
    "\n"
   ]
  },
  {
   "cell_type": "markdown",
   "metadata": {
    "heading_collapsed": true
   },
   "source": [
    "#### Q1: Who assisted Messi most?"
   ]
  },
  {
   "cell_type": "code",
   "execution_count": 33,
   "metadata": {
    "hidden": true
   },
   "outputs": [
    {
     "data": {
      "text/plain": [
       "Own               209\n",
       "Luis Suarez        48\n",
       "Dani Alves         42\n",
       "Andres Iniesta     39\n",
       "Xavi               34\n",
       "                 ... \n",
       "Aleksandr Hleb      1\n",
       "Antonio Amaya       1\n",
       "Alex Song           1\n",
       "Maxwell             1\n",
       "Aleix Vidal         1\n",
       "Name: Goal_assist, Length: 65, dtype: int64"
      ]
     },
     "execution_count": 33,
     "metadata": {},
     "output_type": "execute_result"
    }
   ],
   "source": [
    "most_assist=df.Goal_assist.value_counts()\n",
    "most_assist"
   ]
  },
  {
   "cell_type": "markdown",
   "metadata": {
    "hidden": true
   },
   "source": [
    "We see above, Luis Suarez is the player who assisted Messi most. But there is 209 goals which is assisted by anyone. Messi scored these goals by himself. That is extra-ordinary"
   ]
  },
  {
   "cell_type": "markdown",
   "metadata": {
    "heading_collapsed": true
   },
   "source": [
    "#### Q2: By which body part messi scored most?"
   ]
  },
  {
   "cell_type": "code",
   "execution_count": 34,
   "metadata": {
    "hidden": true
   },
   "outputs": [
    {
     "data": {
      "text/plain": [
       "Left-footed shot          422\n",
       "Penalty                    84\n",
       "Right-footed shot          81\n",
       "Direct free kick           50\n",
       "Header                     24\n",
       "Tap-in                      9\n",
       "Solo run                    4\n",
       "Penalty rebound             3\n",
       "Deflected shot on goal      2\n",
       "Counter attack goal         1\n",
       "Chest                       1\n",
       "Long distance kick          1\n",
       "Name: Type, dtype: int64"
      ]
     },
     "execution_count": 34,
     "metadata": {},
     "output_type": "execute_result"
    }
   ],
   "source": [
    "df.Type.value_counts()"
   ]
  },
  {
   "cell_type": "markdown",
   "metadata": {
    "hidden": true
   },
   "source": [
    "We see above, Messi scored most goals by his left foot and that is 422 goals"
   ]
  },
  {
   "cell_type": "markdown",
   "metadata": {
    "heading_collapsed": true
   },
   "source": [
    "#### Q3: In which game Messi scored most?"
   ]
  },
  {
   "cell_type": "code",
   "execution_count": 35,
   "metadata": {
    "hidden": true
   },
   "outputs": [
    {
     "data": {
      "text/plain": [
       "3/7/12     5\n",
       "9/19/17    4\n",
       "1/27/13    4\n",
       "4/6/10     4\n",
       "2/22/20    4\n",
       "          ..\n",
       "3/9/13     1\n",
       "3/2/13     1\n",
       "2/23/13    1\n",
       "2/10/13    1\n",
       "4/20/14    1\n",
       "Name: Date, Length: 439, dtype: int64"
      ]
     },
     "execution_count": 35,
     "metadata": {},
     "output_type": "execute_result"
    }
   ],
   "source": [
    "df.Date.value_counts()"
   ]
  },
  {
   "cell_type": "code",
   "execution_count": 36,
   "metadata": {
    "hidden": true
   },
   "outputs": [
    {
     "data": {
      "text/html": [
       "<div>\n",
       "<style scoped>\n",
       "    .dataframe tbody tr th:only-of-type {\n",
       "        vertical-align: middle;\n",
       "    }\n",
       "\n",
       "    .dataframe tbody tr th {\n",
       "        vertical-align: top;\n",
       "    }\n",
       "\n",
       "    .dataframe thead th {\n",
       "        text-align: right;\n",
       "    }\n",
       "</style>\n",
       "<table border=\"1\" class=\"dataframe\">\n",
       "  <thead>\n",
       "    <tr style=\"text-align: right;\">\n",
       "      <th></th>\n",
       "      <th>Season</th>\n",
       "      <th>Competition</th>\n",
       "      <th>Matchday</th>\n",
       "      <th>Date</th>\n",
       "      <th>Venue</th>\n",
       "      <th>Club</th>\n",
       "      <th>Opponent</th>\n",
       "      <th>Result</th>\n",
       "      <th>Playing_Position</th>\n",
       "      <th>Minute</th>\n",
       "      <th>At_score</th>\n",
       "      <th>Type</th>\n",
       "      <th>Goal_assist</th>\n",
       "    </tr>\n",
       "  </thead>\n",
       "  <tbody>\n",
       "    <tr>\n",
       "      <th>223</th>\n",
       "      <td>11/12</td>\n",
       "      <td>UEFA Champions League</td>\n",
       "      <td>last 16</td>\n",
       "      <td>3/7/12</td>\n",
       "      <td>H</td>\n",
       "      <td>FC Barcelona</td>\n",
       "      <td>Bayer 04 Leverkusen</td>\n",
       "      <td>7:1</td>\n",
       "      <td>CF</td>\n",
       "      <td>25</td>\n",
       "      <td>1:0</td>\n",
       "      <td>Left-footed shot</td>\n",
       "      <td>Xavi</td>\n",
       "    </tr>\n",
       "    <tr>\n",
       "      <th>224</th>\n",
       "      <td>11/12</td>\n",
       "      <td>UEFA Champions League</td>\n",
       "      <td>last 16</td>\n",
       "      <td>3/7/12</td>\n",
       "      <td>H</td>\n",
       "      <td>FC Barcelona</td>\n",
       "      <td>Bayer 04 Leverkusen</td>\n",
       "      <td>7:1</td>\n",
       "      <td>CF</td>\n",
       "      <td>42</td>\n",
       "      <td>2:0</td>\n",
       "      <td>Left-footed shot</td>\n",
       "      <td>Andres Iniesta</td>\n",
       "    </tr>\n",
       "    <tr>\n",
       "      <th>225</th>\n",
       "      <td>11/12</td>\n",
       "      <td>UEFA Champions League</td>\n",
       "      <td>last 16</td>\n",
       "      <td>3/7/12</td>\n",
       "      <td>H</td>\n",
       "      <td>FC Barcelona</td>\n",
       "      <td>Bayer 04 Leverkusen</td>\n",
       "      <td>7:1</td>\n",
       "      <td>CF</td>\n",
       "      <td>50</td>\n",
       "      <td>3:0</td>\n",
       "      <td>Right-footed shot</td>\n",
       "      <td>Cesc Fabregas</td>\n",
       "    </tr>\n",
       "    <tr>\n",
       "      <th>226</th>\n",
       "      <td>11/12</td>\n",
       "      <td>UEFA Champions League</td>\n",
       "      <td>last 16</td>\n",
       "      <td>3/7/12</td>\n",
       "      <td>H</td>\n",
       "      <td>FC Barcelona</td>\n",
       "      <td>Bayer 04 Leverkusen</td>\n",
       "      <td>7:1</td>\n",
       "      <td>CF</td>\n",
       "      <td>58</td>\n",
       "      <td>5:0</td>\n",
       "      <td>Left-footed shot</td>\n",
       "      <td>Own</td>\n",
       "    </tr>\n",
       "    <tr>\n",
       "      <th>227</th>\n",
       "      <td>11/12</td>\n",
       "      <td>UEFA Champions League</td>\n",
       "      <td>last 16</td>\n",
       "      <td>3/7/12</td>\n",
       "      <td>H</td>\n",
       "      <td>FC Barcelona</td>\n",
       "      <td>Bayer 04 Leverkusen</td>\n",
       "      <td>7:1</td>\n",
       "      <td>CF</td>\n",
       "      <td>85</td>\n",
       "      <td>7:0</td>\n",
       "      <td>Left-footed shot</td>\n",
       "      <td>Seydou Keita</td>\n",
       "    </tr>\n",
       "  </tbody>\n",
       "</table>\n",
       "</div>"
      ],
      "text/plain": [
       "    Season            Competition Matchday    Date Venue          Club  \\\n",
       "223  11/12  UEFA Champions League  last 16  3/7/12     H  FC Barcelona   \n",
       "224  11/12  UEFA Champions League  last 16  3/7/12     H  FC Barcelona   \n",
       "225  11/12  UEFA Champions League  last 16  3/7/12     H  FC Barcelona   \n",
       "226  11/12  UEFA Champions League  last 16  3/7/12     H  FC Barcelona   \n",
       "227  11/12  UEFA Champions League  last 16  3/7/12     H  FC Barcelona   \n",
       "\n",
       "                Opponent Result Playing_Position Minute At_score  \\\n",
       "223  Bayer 04 Leverkusen    7:1               CF     25      1:0   \n",
       "224  Bayer 04 Leverkusen    7:1               CF     42      2:0   \n",
       "225  Bayer 04 Leverkusen    7:1               CF     50      3:0   \n",
       "226  Bayer 04 Leverkusen    7:1               CF     58      5:0   \n",
       "227  Bayer 04 Leverkusen    7:1               CF     85      7:0   \n",
       "\n",
       "                  Type     Goal_assist  \n",
       "223   Left-footed shot            Xavi  \n",
       "224   Left-footed shot  Andres Iniesta  \n",
       "225  Right-footed shot   Cesc Fabregas  \n",
       "226   Left-footed shot             Own  \n",
       "227   Left-footed shot    Seydou Keita  "
      ]
     },
     "execution_count": 36,
     "metadata": {},
     "output_type": "execute_result"
    }
   ],
   "source": [
    "high_goal_df=df[df['Date']=='3/7/12']\n",
    "high_goal_df"
   ]
  },
  {
   "cell_type": "markdown",
   "metadata": {
    "hidden": true
   },
   "source": [
    "We see in above dataset, Messi scored 5 goals in a single match. That match was against Bayer 04 Leverkusen. The Season was 11/12 and Date was 3/7/12"
   ]
  },
  {
   "cell_type": "markdown",
   "metadata": {
    "heading_collapsed": true
   },
   "source": [
    "#### Q4: From which position Messi scored most goals?"
   ]
  },
  {
   "cell_type": "code",
   "execution_count": 37,
   "metadata": {
    "hidden": true
   },
   "outputs": [
    {
     "data": {
      "text/plain": [
       "CF     266\n",
       "RW     220\n",
       "RW      95\n",
       "CF      40\n",
       "SS      32\n",
       "SS      18\n",
       "AM       7\n",
       "AM       4\n",
       "LW       1\n",
       "Name: Playing_Position, dtype: int64"
      ]
     },
     "execution_count": 37,
     "metadata": {},
     "output_type": "execute_result"
    }
   ],
   "source": [
    "df.Playing_Position.value_counts()"
   ]
  },
  {
   "cell_type": "markdown",
   "metadata": {
    "hidden": true
   },
   "source": [
    "We see above, As a CF player messi scored most, that is 266 goals. "
   ]
  },
  {
   "cell_type": "markdown",
   "metadata": {
    "heading_collapsed": true
   },
   "source": [
    "#### Q5: How much match Messi won?"
   ]
  },
  {
   "cell_type": "code",
   "execution_count": 38,
   "metadata": {
    "hidden": true,
    "scrolled": true
   },
   "outputs": [
    {
     "data": {
      "text/plain": [
       "0      False\n",
       "1      False\n",
       "2      False\n",
       "3      False\n",
       "4      False\n",
       "5      False\n",
       "6       True\n",
       "7      False\n",
       "8      False\n",
       "9      False\n",
       "10     False\n",
       "11     False\n",
       "12     False\n",
       "13     False\n",
       "14      True\n",
       "15      True\n",
       "16     False\n",
       "17     False\n",
       "18     False\n",
       "19      True\n",
       "20     False\n",
       "21      True\n",
       "22     False\n",
       "23      True\n",
       "24     False\n",
       "25      True\n",
       "26     False\n",
       "27     False\n",
       "28      True\n",
       "29     False\n",
       "30      True\n",
       "31     False\n",
       "32     False\n",
       "33     False\n",
       "34     False\n",
       "35     False\n",
       "36     False\n",
       "37     False\n",
       "38     False\n",
       "39      True\n",
       "40     False\n",
       "41     False\n",
       "42     False\n",
       "43     False\n",
       "44      True\n",
       "45     False\n",
       "46     False\n",
       "47      True\n",
       "48     False\n",
       "49     False\n",
       "50     False\n",
       "51     False\n",
       "52     False\n",
       "53     False\n",
       "54     False\n",
       "55     False\n",
       "56      True\n",
       "57     False\n",
       "58     False\n",
       "59      True\n",
       "60      True\n",
       "61     False\n",
       "62     False\n",
       "63     False\n",
       "64      True\n",
       "65     False\n",
       "66      True\n",
       "67     False\n",
       "68     False\n",
       "69     False\n",
       "70     False\n",
       "71     False\n",
       "72     False\n",
       "73      True\n",
       "74     False\n",
       "75     False\n",
       "76     False\n",
       "77      True\n",
       "78     False\n",
       "79     False\n",
       "80     False\n",
       "81      True\n",
       "82     False\n",
       "83     False\n",
       "84      True\n",
       "85     False\n",
       "86      True\n",
       "87     False\n",
       "88     False\n",
       "89     False\n",
       "90     False\n",
       "91     False\n",
       "92      True\n",
       "93     False\n",
       "94     False\n",
       "95     False\n",
       "96     False\n",
       "97      True\n",
       "98      True\n",
       "99     False\n",
       "100     True\n",
       "101    False\n",
       "102    False\n",
       "103    False\n",
       "104    False\n",
       "105     True\n",
       "106    False\n",
       "107     True\n",
       "108     True\n",
       "109    False\n",
       "110     True\n",
       "111    False\n",
       "112     True\n",
       "113     True\n",
       "114    False\n",
       "115    False\n",
       "116     True\n",
       "117     True\n",
       "118     True\n",
       "119    False\n",
       "120    False\n",
       "121     True\n",
       "122    False\n",
       "123     True\n",
       "124    False\n",
       "125    False\n",
       "126     True\n",
       "127    False\n",
       "128     True\n",
       "129     True\n",
       "130    False\n",
       "131    False\n",
       "132     True\n",
       "133    False\n",
       "134    False\n",
       "135    False\n",
       "136     True\n",
       "137    False\n",
       "138     True\n",
       "139    False\n",
       "140     True\n",
       "141    False\n",
       "142    False\n",
       "143    False\n",
       "144    False\n",
       "145     True\n",
       "146    False\n",
       "147     True\n",
       "148     True\n",
       "149    False\n",
       "150    False\n",
       "151     True\n",
       "152    False\n",
       "153     True\n",
       "154    False\n",
       "155    False\n",
       "156     True\n",
       "157     True\n",
       "158    False\n",
       "159    False\n",
       "160    False\n",
       "161     True\n",
       "162    False\n",
       "163     True\n",
       "164    False\n",
       "165     True\n",
       "166     True\n",
       "167    False\n",
       "168    False\n",
       "169    False\n",
       "170    False\n",
       "171     True\n",
       "172    False\n",
       "173     True\n",
       "174    False\n",
       "175    False\n",
       "176    False\n",
       "177    False\n",
       "178     True\n",
       "179    False\n",
       "180    False\n",
       "181    False\n",
       "182     True\n",
       "183    False\n",
       "184    False\n",
       "185     True\n",
       "186    False\n",
       "187     True\n",
       "188     True\n",
       "189    False\n",
       "190     True\n",
       "191     True\n",
       "192    False\n",
       "193     True\n",
       "194    False\n",
       "195     True\n",
       "196    False\n",
       "197     True\n",
       "198     True\n",
       "199    False\n",
       "200     True\n",
       "201     True\n",
       "202    False\n",
       "203    False\n",
       "204    False\n",
       "205    False\n",
       "206    False\n",
       "207    False\n",
       "208     True\n",
       "209    False\n",
       "210     True\n",
       "211    False\n",
       "212     True\n",
       "213    False\n",
       "214     True\n",
       "215     True\n",
       "216    False\n",
       "217    False\n",
       "218    False\n",
       "219     True\n",
       "220     True\n",
       "221     True\n",
       "222    False\n",
       "223    False\n",
       "224     True\n",
       "225     True\n",
       "226     True\n",
       "227     True\n",
       "228    False\n",
       "229     True\n",
       "230    False\n",
       "231    False\n",
       "232     True\n",
       "233     True\n",
       "234    False\n",
       "235    False\n",
       "236    False\n",
       "237     True\n",
       "238    False\n",
       "239     True\n",
       "240    False\n",
       "241    False\n",
       "242     True\n",
       "243    False\n",
       "244     True\n",
       "245    False\n",
       "246     True\n",
       "247     True\n",
       "248    False\n",
       "249     True\n",
       "250     True\n",
       "251     True\n",
       "252    False\n",
       "253    False\n",
       "254     True\n",
       "255    False\n",
       "256    False\n",
       "257     True\n",
       "258    False\n",
       "259    False\n",
       "260     True\n",
       "261    False\n",
       "262     True\n",
       "263    False\n",
       "264     True\n",
       "265    False\n",
       "266     True\n",
       "267     True\n",
       "268    False\n",
       "269     True\n",
       "270    False\n",
       "271    False\n",
       "272     True\n",
       "273    False\n",
       "274     True\n",
       "275    False\n",
       "276     True\n",
       "277    False\n",
       "278     True\n",
       "279    False\n",
       "280     True\n",
       "281    False\n",
       "282     True\n",
       "283    False\n",
       "284     True\n",
       "285    False\n",
       "286     True\n",
       "287    False\n",
       "288    False\n",
       "289    False\n",
       "290    False\n",
       "291    False\n",
       "292    False\n",
       "293    False\n",
       "294     True\n",
       "295     True\n",
       "296     True\n",
       "297    False\n",
       "298    False\n",
       "299    False\n",
       "300     True\n",
       "301    False\n",
       "302    False\n",
       "303    False\n",
       "304    False\n",
       "305     True\n",
       "306    False\n",
       "307     True\n",
       "308    False\n",
       "309    False\n",
       "310    False\n",
       "311    False\n",
       "312     True\n",
       "313    False\n",
       "314     True\n",
       "315    False\n",
       "316     True\n",
       "317     True\n",
       "318    False\n",
       "319    False\n",
       "320     True\n",
       "321     True\n",
       "322    False\n",
       "323    False\n",
       "324    False\n",
       "325    False\n",
       "326     True\n",
       "327    False\n",
       "328     True\n",
       "329    False\n",
       "330     True\n",
       "331    False\n",
       "332    False\n",
       "333     True\n",
       "334    False\n",
       "335    False\n",
       "336     True\n",
       "337    False\n",
       "338    False\n",
       "339    False\n",
       "340    False\n",
       "341    False\n",
       "342     True\n",
       "343     True\n",
       "344    False\n",
       "345     True\n",
       "346     True\n",
       "347    False\n",
       "348    False\n",
       "349    False\n",
       "350     True\n",
       "351    False\n",
       "352    False\n",
       "353    False\n",
       "354    False\n",
       "355     True\n",
       "356    False\n",
       "357    False\n",
       "358     True\n",
       "359    False\n",
       "360    False\n",
       "361    False\n",
       "362    False\n",
       "363    False\n",
       "364     True\n",
       "365    False\n",
       "366     True\n",
       "367     True\n",
       "368    False\n",
       "369     True\n",
       "370     True\n",
       "371    False\n",
       "372     True\n",
       "373     True\n",
       "374    False\n",
       "375    False\n",
       "376     True\n",
       "377    False\n",
       "378    False\n",
       "379    False\n",
       "380     True\n",
       "381     True\n",
       "382    False\n",
       "383    False\n",
       "384     True\n",
       "385    False\n",
       "386    False\n",
       "387    False\n",
       "388    False\n",
       "389     True\n",
       "390     True\n",
       "391    False\n",
       "392    False\n",
       "393     True\n",
       "394     True\n",
       "395    False\n",
       "396     True\n",
       "397    False\n",
       "398    False\n",
       "399    False\n",
       "400    False\n",
       "401    False\n",
       "402     True\n",
       "403    False\n",
       "404     True\n",
       "405    False\n",
       "406     True\n",
       "407    False\n",
       "408    False\n",
       "409     True\n",
       "410    False\n",
       "411     True\n",
       "412    False\n",
       "413     True\n",
       "414    False\n",
       "415    False\n",
       "416    False\n",
       "417     True\n",
       "418    False\n",
       "419     True\n",
       "420    False\n",
       "421    False\n",
       "422    False\n",
       "423    False\n",
       "424    False\n",
       "425    False\n",
       "426     True\n",
       "427    False\n",
       "428     True\n",
       "429     True\n",
       "430    False\n",
       "431    False\n",
       "432    False\n",
       "433    False\n",
       "434     True\n",
       "435     True\n",
       "436    False\n",
       "437    False\n",
       "438     True\n",
       "439    False\n",
       "440     True\n",
       "441    False\n",
       "442    False\n",
       "443     True\n",
       "444     True\n",
       "445    False\n",
       "446     True\n",
       "447    False\n",
       "448    False\n",
       "449    False\n",
       "450    False\n",
       "451    False\n",
       "452    False\n",
       "453    False\n",
       "454    False\n",
       "455     True\n",
       "456    False\n",
       "457     True\n",
       "458     True\n",
       "459    False\n",
       "460     True\n",
       "461    False\n",
       "462    False\n",
       "463     True\n",
       "464     True\n",
       "465    False\n",
       "466     True\n",
       "467    False\n",
       "468    False\n",
       "469    False\n",
       "470     True\n",
       "471    False\n",
       "472    False\n",
       "473    False\n",
       "474     True\n",
       "475    False\n",
       "476    False\n",
       "477    False\n",
       "478    False\n",
       "479    False\n",
       "480    False\n",
       "481    False\n",
       "482    False\n",
       "483    False\n",
       "484    False\n",
       "485    False\n",
       "486     True\n",
       "487    False\n",
       "488    False\n",
       "489    False\n",
       "490     True\n",
       "491    False\n",
       "492    False\n",
       "493     True\n",
       "494    False\n",
       "495     True\n",
       "496    False\n",
       "497     True\n",
       "498    False\n",
       "499     True\n",
       "500    False\n",
       "501     True\n",
       "502    False\n",
       "503     True\n",
       "504    False\n",
       "505     True\n",
       "506    False\n",
       "507    False\n",
       "508    False\n",
       "509     True\n",
       "510    False\n",
       "511     True\n",
       "512     True\n",
       "513    False\n",
       "514     True\n",
       "515    False\n",
       "516     True\n",
       "517     True\n",
       "518     True\n",
       "519    False\n",
       "520     True\n",
       "521    False\n",
       "522    False\n",
       "523    False\n",
       "524    False\n",
       "525    False\n",
       "526    False\n",
       "527    False\n",
       "528     True\n",
       "529    False\n",
       "530    False\n",
       "531     True\n",
       "532    False\n",
       "533    False\n",
       "534    False\n",
       "535    False\n",
       "536     True\n",
       "537    False\n",
       "538    False\n",
       "539    False\n",
       "540     True\n",
       "541    False\n",
       "542    False\n",
       "543    False\n",
       "544     True\n",
       "545     True\n",
       "546    False\n",
       "547    False\n",
       "548     True\n",
       "549     True\n",
       "550    False\n",
       "551    False\n",
       "552    False\n",
       "553     True\n",
       "554    False\n",
       "555     True\n",
       "556    False\n",
       "557     True\n",
       "558     True\n",
       "559    False\n",
       "560    False\n",
       "561     True\n",
       "562    False\n",
       "563    False\n",
       "564    False\n",
       "565     True\n",
       "566    False\n",
       "567    False\n",
       "568     True\n",
       "569    False\n",
       "570     True\n",
       "571     True\n",
       "572    False\n",
       "573    False\n",
       "574    False\n",
       "575    False\n",
       "576    False\n",
       "577    False\n",
       "578    False\n",
       "579    False\n",
       "580     True\n",
       "581    False\n",
       "582    False\n",
       "583     True\n",
       "584     True\n",
       "585    False\n",
       "586    False\n",
       "587     True\n",
       "588    False\n",
       "589     True\n",
       "590     True\n",
       "591    False\n",
       "592     True\n",
       "593    False\n",
       "594    False\n",
       "595    False\n",
       "596     True\n",
       "597    False\n",
       "598    False\n",
       "599     True\n",
       "600    False\n",
       "601     True\n",
       "602    False\n",
       "603    False\n",
       "604    False\n",
       "605    False\n",
       "606    False\n",
       "607     True\n",
       "608    False\n",
       "609    False\n",
       "610     True\n",
       "611     True\n",
       "612    False\n",
       "613    False\n",
       "614    False\n",
       "615     True\n",
       "616     True\n",
       "617    False\n",
       "618    False\n",
       "619    False\n",
       "620    False\n",
       "621     True\n",
       "622    False\n",
       "623     True\n",
       "624     True\n",
       "625     True\n",
       "626    False\n",
       "627    False\n",
       "628    False\n",
       "629    False\n",
       "630    False\n",
       "631    False\n",
       "632     True\n",
       "633    False\n",
       "634    False\n",
       "635    False\n",
       "636    False\n",
       "637    False\n",
       "638    False\n",
       "639     True\n",
       "640    False\n",
       "641    False\n",
       "642    False\n",
       "643    False\n",
       "644    False\n",
       "645     True\n",
       "646    False\n",
       "647     True\n",
       "648    False\n",
       "649    False\n",
       "650    False\n",
       "651    False\n",
       "652     True\n",
       "653    False\n",
       "654    False\n",
       "655    False\n",
       "656     True\n",
       "657    False\n",
       "658    False\n",
       "659    False\n",
       "660     True\n",
       "661    False\n",
       "662     True\n",
       "663    False\n",
       "664     True\n",
       "665    False\n",
       "666     True\n",
       "667    False\n",
       "668    False\n",
       "669     True\n",
       "670    False\n",
       "671    False\n",
       "672    False\n",
       "673    False\n",
       "674     True\n",
       "675    False\n",
       "676    False\n",
       "677     True\n",
       "678    False\n",
       "679    False\n",
       "680    False\n",
       "681    False\n",
       "682     True\n",
       "Name: Date, dtype: bool"
      ]
     },
     "execution_count": 38,
     "metadata": {},
     "output_type": "execute_result"
    }
   ],
   "source": [
    "pandas.set_option('display.max_rows', df.shape[0]+1)\n",
    "dup=df.Date.duplicated()\n",
    "dup"
   ]
  },
  {
   "cell_type": "code",
   "execution_count": 39,
   "metadata": {
    "hidden": true,
    "scrolled": true
   },
   "outputs": [
    {
     "data": {
      "text/html": [
       "<div>\n",
       "<style scoped>\n",
       "    .dataframe tbody tr th:only-of-type {\n",
       "        vertical-align: middle;\n",
       "    }\n",
       "\n",
       "    .dataframe tbody tr th {\n",
       "        vertical-align: top;\n",
       "    }\n",
       "\n",
       "    .dataframe thead th {\n",
       "        text-align: right;\n",
       "    }\n",
       "</style>\n",
       "<table border=\"1\" class=\"dataframe\">\n",
       "  <thead>\n",
       "    <tr style=\"text-align: right;\">\n",
       "      <th></th>\n",
       "      <th>Season</th>\n",
       "      <th>Competition</th>\n",
       "      <th>Matchday</th>\n",
       "      <th>Date</th>\n",
       "      <th>Venue</th>\n",
       "      <th>Club</th>\n",
       "      <th>Opponent</th>\n",
       "      <th>Result</th>\n",
       "      <th>Playing_Position</th>\n",
       "      <th>Minute</th>\n",
       "      <th>At_score</th>\n",
       "      <th>Type</th>\n",
       "      <th>Goal_assist</th>\n",
       "    </tr>\n",
       "  </thead>\n",
       "  <tbody>\n",
       "    <tr>\n",
       "      <th>4</th>\n",
       "      <td>05/06</td>\n",
       "      <td>LaLiga</td>\n",
       "      <td>20</td>\n",
       "      <td>1/22/06</td>\n",
       "      <td>H</td>\n",
       "      <td>FC Barcelona</td>\n",
       "      <td>Deportivo Alaves</td>\n",
       "      <td>2:0</td>\n",
       "      <td>CF</td>\n",
       "      <td>82</td>\n",
       "      <td>2:0</td>\n",
       "      <td>Left-footed shot</td>\n",
       "      <td>Ronaldinho Gaacho</td>\n",
       "    </tr>\n",
       "    <tr>\n",
       "      <th>5</th>\n",
       "      <td>05/06</td>\n",
       "      <td>LaLiga</td>\n",
       "      <td>21</td>\n",
       "      <td>1/29/06</td>\n",
       "      <td>A</td>\n",
       "      <td>FC Barcelona</td>\n",
       "      <td>RCD Mallorca</td>\n",
       "      <td>0:3</td>\n",
       "      <td>CF</td>\n",
       "      <td>75</td>\n",
       "      <td>0:2</td>\n",
       "      <td>Right-footed shot</td>\n",
       "      <td>Sylvinho</td>\n",
       "    </tr>\n",
       "    <tr>\n",
       "      <th>6</th>\n",
       "      <td>05/06</td>\n",
       "      <td>LaLiga</td>\n",
       "      <td>21</td>\n",
       "      <td>1/29/06</td>\n",
       "      <td>A</td>\n",
       "      <td>FC Barcelona</td>\n",
       "      <td>RCD Mallorca</td>\n",
       "      <td>0:3</td>\n",
       "      <td>CF</td>\n",
       "      <td>83</td>\n",
       "      <td>0:3</td>\n",
       "      <td>Left-footed shot</td>\n",
       "      <td>Ronaldinho Gaacho</td>\n",
       "    </tr>\n",
       "    <tr>\n",
       "      <th>7</th>\n",
       "      <td>05/06</td>\n",
       "      <td>Copa del Rey</td>\n",
       "      <td>Quarter-Finals</td>\n",
       "      <td>2/1/06</td>\n",
       "      <td>H</td>\n",
       "      <td>FC Barcelona</td>\n",
       "      <td>Real Zaragoza</td>\n",
       "      <td>2:1</td>\n",
       "      <td>CF</td>\n",
       "      <td>42</td>\n",
       "      <td>1:0</td>\n",
       "      <td>Header</td>\n",
       "      <td>Ludovic Giuly</td>\n",
       "    </tr>\n",
       "  </tbody>\n",
       "</table>\n",
       "</div>"
      ],
      "text/plain": [
       "  Season   Competition        Matchday     Date Venue          Club  \\\n",
       "4  05/06        LaLiga              20  1/22/06     H  FC Barcelona   \n",
       "5  05/06        LaLiga              21  1/29/06     A  FC Barcelona   \n",
       "6  05/06        LaLiga              21  1/29/06     A  FC Barcelona   \n",
       "7  05/06  Copa del Rey  Quarter-Finals   2/1/06     H  FC Barcelona   \n",
       "\n",
       "           Opponent Result Playing_Position Minute At_score  \\\n",
       "4  Deportivo Alaves    2:0               CF     82      2:0   \n",
       "5      RCD Mallorca    0:3               CF     75      0:2   \n",
       "6      RCD Mallorca    0:3               CF     83      0:3   \n",
       "7     Real Zaragoza    2:1               CF     42      1:0   \n",
       "\n",
       "                Type        Goal_assist  \n",
       "4   Left-footed shot  Ronaldinho Gaacho  \n",
       "5  Right-footed shot           Sylvinho  \n",
       "6   Left-footed shot  Ronaldinho Gaacho  \n",
       "7             Header      Ludovic Giuly  "
      ]
     },
     "execution_count": 39,
     "metadata": {},
     "output_type": "execute_result"
    }
   ],
   "source": [
    "df[4:8]"
   ]
  },
  {
   "cell_type": "markdown",
   "metadata": {
    "hidden": true
   },
   "source": [
    "See above in row 5,6. These are same match and these result is 1 match result. So we need avoid same match result"
   ]
  },
  {
   "cell_type": "code",
   "execution_count": 40,
   "metadata": {
    "hidden": true
   },
   "outputs": [],
   "source": [
    "new_df=df.copy()"
   ]
  },
  {
   "cell_type": "code",
   "execution_count": 41,
   "metadata": {
    "hidden": true,
    "scrolled": true
   },
   "outputs": [
    {
     "name": "stdout",
     "output_type": "stream",
     "text": [
      "True 6\n",
      "True 14\n",
      "True 15\n",
      "True 19\n",
      "True 21\n",
      "True 23\n",
      "True 25\n",
      "True 28\n",
      "True 30\n",
      "True 39\n",
      "True 44\n",
      "True 47\n",
      "True 56\n",
      "True 59\n",
      "True 60\n",
      "True 64\n",
      "True 66\n",
      "True 73\n",
      "True 77\n",
      "True 81\n",
      "True 84\n",
      "True 86\n",
      "True 92\n",
      "True 97\n",
      "True 98\n",
      "True 100\n",
      "True 105\n",
      "True 107\n",
      "True 108\n",
      "True 110\n",
      "True 112\n",
      "True 113\n",
      "True 116\n",
      "True 117\n",
      "True 118\n",
      "True 121\n",
      "True 123\n",
      "True 126\n",
      "True 128\n",
      "True 129\n",
      "True 132\n",
      "True 136\n",
      "True 138\n",
      "True 140\n",
      "True 145\n",
      "True 147\n",
      "True 148\n",
      "True 151\n",
      "True 153\n",
      "True 156\n",
      "True 157\n",
      "True 161\n",
      "True 163\n",
      "True 165\n",
      "True 166\n",
      "True 171\n",
      "True 173\n",
      "True 178\n",
      "True 182\n",
      "True 185\n",
      "True 187\n",
      "True 188\n",
      "True 190\n",
      "True 191\n",
      "True 193\n",
      "True 195\n",
      "True 197\n",
      "True 198\n",
      "True 200\n",
      "True 201\n",
      "True 208\n",
      "True 210\n",
      "True 212\n",
      "True 214\n",
      "True 215\n",
      "True 219\n",
      "True 220\n",
      "True 221\n",
      "True 224\n",
      "True 225\n",
      "True 226\n",
      "True 227\n",
      "True 229\n",
      "True 232\n",
      "True 233\n",
      "True 237\n",
      "True 239\n",
      "True 242\n",
      "True 244\n",
      "True 246\n",
      "True 247\n",
      "True 249\n",
      "True 250\n",
      "True 251\n",
      "True 254\n",
      "True 257\n",
      "True 260\n",
      "True 262\n",
      "True 264\n",
      "True 266\n",
      "True 267\n",
      "True 269\n",
      "True 272\n",
      "True 274\n",
      "True 276\n",
      "True 278\n",
      "True 280\n",
      "True 282\n",
      "True 284\n",
      "True 286\n",
      "True 294\n",
      "True 295\n",
      "True 296\n",
      "True 300\n",
      "True 305\n",
      "True 307\n",
      "True 312\n",
      "True 314\n",
      "True 316\n",
      "True 317\n",
      "True 320\n",
      "True 321\n",
      "True 326\n",
      "True 328\n",
      "True 330\n",
      "True 333\n",
      "True 336\n",
      "True 342\n",
      "True 343\n",
      "True 345\n",
      "True 346\n",
      "True 350\n",
      "True 355\n",
      "True 358\n",
      "True 364\n",
      "True 366\n",
      "True 367\n",
      "True 369\n",
      "True 370\n",
      "True 372\n",
      "True 373\n",
      "True 376\n",
      "True 380\n",
      "True 381\n",
      "True 384\n",
      "True 389\n",
      "True 390\n",
      "True 393\n",
      "True 394\n",
      "True 396\n",
      "True 402\n",
      "True 404\n",
      "True 406\n",
      "True 409\n",
      "True 411\n",
      "True 413\n",
      "True 417\n",
      "True 419\n",
      "True 426\n",
      "True 428\n",
      "True 429\n",
      "True 434\n",
      "True 435\n",
      "True 438\n",
      "True 440\n",
      "True 443\n",
      "True 444\n",
      "True 446\n",
      "True 455\n",
      "True 457\n",
      "True 458\n",
      "True 460\n",
      "True 463\n",
      "True 464\n",
      "True 466\n",
      "True 470\n",
      "True 474\n",
      "True 486\n",
      "True 490\n",
      "True 493\n",
      "True 495\n",
      "True 497\n",
      "True 499\n",
      "True 501\n",
      "True 503\n",
      "True 505\n",
      "True 509\n",
      "True 511\n",
      "True 512\n",
      "True 514\n",
      "True 516\n",
      "True 517\n",
      "True 518\n",
      "True 520\n",
      "True 528\n",
      "True 531\n",
      "True 536\n",
      "True 540\n",
      "True 544\n",
      "True 545\n",
      "True 548\n",
      "True 549\n",
      "True 553\n",
      "True 555\n",
      "True 557\n",
      "True 558\n",
      "True 561\n",
      "True 565\n",
      "True 568\n",
      "True 570\n",
      "True 571\n",
      "True 580\n",
      "True 583\n",
      "True 584\n",
      "True 587\n",
      "True 589\n",
      "True 590\n",
      "True 592\n",
      "True 596\n",
      "True 599\n",
      "True 601\n",
      "True 607\n",
      "True 610\n",
      "True 611\n",
      "True 615\n",
      "True 616\n",
      "True 621\n",
      "True 623\n",
      "True 624\n",
      "True 625\n",
      "True 632\n",
      "True 639\n",
      "True 645\n",
      "True 647\n",
      "True 652\n",
      "True 656\n",
      "True 660\n",
      "True 662\n",
      "True 664\n",
      "True 666\n",
      "True 669\n",
      "True 674\n",
      "True 677\n",
      "True 682\n"
     ]
    }
   ],
   "source": [
    "i=0\n",
    "\n",
    "for x in dup:\n",
    "    if(x==True):\n",
    "        new_df.drop(i,inplace=True)\n",
    "        print(x,i)\n",
    "    i=i+1\n",
    "    "
   ]
  },
  {
   "cell_type": "markdown",
   "metadata": {
    "hidden": true
   },
   "source": [
    "Same match row is removed"
   ]
  },
  {
   "cell_type": "code",
   "execution_count": 42,
   "metadata": {
    "hidden": true
   },
   "outputs": [
    {
     "name": "stdout",
     "output_type": "stream",
     "text": [
      "<class 'pandas.core.frame.DataFrame'>\n",
      "Int64Index: 439 entries, 0 to 681\n",
      "Data columns (total 13 columns):\n",
      " #   Column            Non-Null Count  Dtype \n",
      "---  ------            --------------  ----- \n",
      " 0   Season            439 non-null    object\n",
      " 1   Competition       439 non-null    object\n",
      " 2   Matchday          439 non-null    object\n",
      " 3   Date              439 non-null    object\n",
      " 4   Venue             439 non-null    object\n",
      " 5   Club              439 non-null    object\n",
      " 6   Opponent          439 non-null    object\n",
      " 7   Result            439 non-null    object\n",
      " 8   Playing_Position  439 non-null    object\n",
      " 9   Minute            439 non-null    object\n",
      " 10  At_score          439 non-null    object\n",
      " 11  Type              438 non-null    object\n",
      " 12  Goal_assist       439 non-null    object\n",
      "dtypes: object(13)\n",
      "memory usage: 48.0+ KB\n"
     ]
    }
   ],
   "source": [
    "new_df.info()"
   ]
  },
  {
   "cell_type": "markdown",
   "metadata": {
    "hidden": true
   },
   "source": [
    "From above we see Messi scored in 439 Matches"
   ]
  },
  {
   "cell_type": "code",
   "execution_count": 43,
   "metadata": {
    "hidden": true
   },
   "outputs": [
    {
     "data": {
      "text/plain": [
       "0      False\n",
       "1      False\n",
       "2      False\n",
       "3      False\n",
       "4      False\n",
       "5      False\n",
       "7      False\n",
       "8      False\n",
       "9      False\n",
       "10     False\n",
       "11     False\n",
       "12     False\n",
       "13     False\n",
       "16     False\n",
       "17     False\n",
       "18     False\n",
       "20     False\n",
       "22     False\n",
       "24     False\n",
       "26     False\n",
       "27     False\n",
       "29     False\n",
       "31     False\n",
       "32     False\n",
       "33     False\n",
       "34     False\n",
       "35     False\n",
       "36     False\n",
       "37     False\n",
       "38     False\n",
       "40     False\n",
       "41     False\n",
       "42     False\n",
       "43     False\n",
       "45     False\n",
       "46     False\n",
       "48     False\n",
       "49     False\n",
       "50     False\n",
       "51     False\n",
       "52     False\n",
       "53     False\n",
       "54     False\n",
       "55     False\n",
       "57     False\n",
       "58     False\n",
       "61     False\n",
       "62     False\n",
       "63     False\n",
       "65     False\n",
       "67     False\n",
       "68     False\n",
       "69     False\n",
       "70     False\n",
       "71     False\n",
       "72     False\n",
       "74     False\n",
       "75     False\n",
       "76     False\n",
       "78     False\n",
       "79     False\n",
       "80     False\n",
       "82     False\n",
       "83     False\n",
       "85     False\n",
       "87     False\n",
       "88     False\n",
       "89     False\n",
       "90     False\n",
       "91     False\n",
       "93     False\n",
       "94     False\n",
       "95     False\n",
       "96     False\n",
       "99     False\n",
       "101    False\n",
       "102    False\n",
       "103    False\n",
       "104    False\n",
       "106    False\n",
       "109    False\n",
       "111    False\n",
       "114    False\n",
       "115    False\n",
       "119    False\n",
       "120    False\n",
       "122    False\n",
       "124    False\n",
       "125    False\n",
       "127    False\n",
       "130    False\n",
       "131    False\n",
       "133    False\n",
       "134    False\n",
       "135    False\n",
       "137    False\n",
       "139    False\n",
       "141    False\n",
       "142    False\n",
       "143    False\n",
       "144    False\n",
       "146    False\n",
       "149    False\n",
       "150    False\n",
       "152    False\n",
       "154    False\n",
       "155    False\n",
       "158    False\n",
       "159    False\n",
       "160    False\n",
       "162    False\n",
       "164    False\n",
       "167    False\n",
       "168    False\n",
       "169    False\n",
       "170    False\n",
       "172    False\n",
       "174    False\n",
       "175    False\n",
       "176    False\n",
       "177    False\n",
       "179    False\n",
       "180    False\n",
       "181    False\n",
       "183    False\n",
       "184    False\n",
       "186    False\n",
       "189    False\n",
       "192    False\n",
       "194    False\n",
       "196    False\n",
       "199    False\n",
       "202    False\n",
       "203    False\n",
       "204    False\n",
       "205    False\n",
       "206    False\n",
       "207    False\n",
       "209    False\n",
       "211    False\n",
       "213    False\n",
       "216    False\n",
       "217    False\n",
       "218    False\n",
       "222    False\n",
       "223    False\n",
       "228    False\n",
       "230    False\n",
       "231    False\n",
       "234    False\n",
       "235    False\n",
       "236    False\n",
       "238    False\n",
       "240    False\n",
       "241    False\n",
       "243    False\n",
       "245    False\n",
       "248    False\n",
       "252    False\n",
       "253    False\n",
       "255    False\n",
       "256    False\n",
       "258    False\n",
       "259    False\n",
       "261    False\n",
       "263    False\n",
       "265    False\n",
       "268    False\n",
       "270    False\n",
       "271    False\n",
       "273    False\n",
       "275    False\n",
       "277    False\n",
       "279    False\n",
       "281    False\n",
       "283    False\n",
       "285    False\n",
       "287    False\n",
       "288    False\n",
       "289    False\n",
       "290    False\n",
       "291    False\n",
       "292    False\n",
       "293    False\n",
       "297    False\n",
       "298    False\n",
       "299    False\n",
       "301    False\n",
       "302    False\n",
       "303    False\n",
       "304    False\n",
       "306    False\n",
       "308    False\n",
       "309    False\n",
       "310    False\n",
       "311    False\n",
       "313    False\n",
       "315    False\n",
       "318    False\n",
       "319    False\n",
       "322    False\n",
       "323    False\n",
       "324    False\n",
       "325    False\n",
       "327    False\n",
       "329    False\n",
       "331    False\n",
       "332    False\n",
       "334    False\n",
       "335    False\n",
       "337    False\n",
       "338    False\n",
       "339    False\n",
       "340    False\n",
       "341    False\n",
       "344    False\n",
       "347    False\n",
       "348    False\n",
       "349    False\n",
       "351    False\n",
       "352    False\n",
       "353    False\n",
       "354    False\n",
       "356    False\n",
       "357    False\n",
       "359    False\n",
       "360    False\n",
       "361    False\n",
       "362    False\n",
       "363    False\n",
       "365    False\n",
       "368    False\n",
       "371    False\n",
       "374    False\n",
       "375    False\n",
       "377    False\n",
       "378    False\n",
       "379    False\n",
       "382    False\n",
       "383    False\n",
       "385    False\n",
       "386    False\n",
       "387    False\n",
       "388    False\n",
       "391    False\n",
       "392    False\n",
       "395    False\n",
       "397    False\n",
       "398    False\n",
       "399    False\n",
       "400    False\n",
       "401    False\n",
       "403    False\n",
       "405    False\n",
       "407    False\n",
       "408    False\n",
       "410    False\n",
       "412    False\n",
       "414    False\n",
       "415    False\n",
       "416    False\n",
       "418    False\n",
       "420    False\n",
       "421    False\n",
       "422    False\n",
       "423    False\n",
       "424    False\n",
       "425    False\n",
       "427    False\n",
       "430    False\n",
       "431    False\n",
       "432    False\n",
       "433    False\n",
       "436    False\n",
       "437    False\n",
       "439    False\n",
       "441    False\n",
       "442    False\n",
       "445    False\n",
       "447    False\n",
       "448    False\n",
       "449    False\n",
       "450    False\n",
       "451    False\n",
       "452    False\n",
       "453    False\n",
       "454    False\n",
       "456    False\n",
       "459    False\n",
       "461    False\n",
       "462    False\n",
       "465    False\n",
       "467    False\n",
       "468    False\n",
       "469    False\n",
       "471    False\n",
       "472    False\n",
       "473    False\n",
       "475    False\n",
       "476    False\n",
       "477    False\n",
       "478    False\n",
       "479    False\n",
       "480    False\n",
       "481    False\n",
       "482    False\n",
       "483    False\n",
       "484    False\n",
       "485    False\n",
       "487    False\n",
       "488    False\n",
       "489    False\n",
       "491    False\n",
       "492    False\n",
       "494    False\n",
       "496    False\n",
       "498    False\n",
       "500    False\n",
       "502    False\n",
       "504    False\n",
       "506    False\n",
       "507    False\n",
       "508    False\n",
       "510    False\n",
       "513    False\n",
       "515    False\n",
       "519    False\n",
       "521    False\n",
       "522    False\n",
       "523    False\n",
       "524    False\n",
       "525    False\n",
       "526    False\n",
       "527    False\n",
       "529    False\n",
       "530    False\n",
       "532    False\n",
       "533    False\n",
       "534    False\n",
       "535    False\n",
       "537    False\n",
       "538    False\n",
       "539    False\n",
       "541    False\n",
       "542    False\n",
       "543    False\n",
       "546    False\n",
       "547    False\n",
       "550    False\n",
       "551    False\n",
       "552    False\n",
       "554    False\n",
       "556    False\n",
       "559    False\n",
       "560    False\n",
       "562    False\n",
       "563    False\n",
       "564    False\n",
       "566    False\n",
       "567    False\n",
       "569    False\n",
       "572    False\n",
       "573    False\n",
       "574    False\n",
       "575    False\n",
       "576    False\n",
       "577    False\n",
       "578    False\n",
       "579    False\n",
       "581    False\n",
       "582    False\n",
       "585    False\n",
       "586    False\n",
       "588    False\n",
       "591    False\n",
       "593    False\n",
       "594    False\n",
       "595    False\n",
       "597    False\n",
       "598    False\n",
       "600    False\n",
       "602    False\n",
       "603    False\n",
       "604    False\n",
       "605    False\n",
       "606    False\n",
       "608    False\n",
       "609    False\n",
       "612    False\n",
       "613    False\n",
       "614    False\n",
       "617    False\n",
       "618    False\n",
       "619    False\n",
       "620    False\n",
       "622    False\n",
       "626    False\n",
       "627    False\n",
       "628    False\n",
       "629    False\n",
       "630    False\n",
       "631    False\n",
       "633    False\n",
       "634    False\n",
       "635    False\n",
       "636    False\n",
       "637    False\n",
       "638    False\n",
       "640    False\n",
       "641    False\n",
       "642    False\n",
       "643    False\n",
       "644    False\n",
       "646    False\n",
       "648    False\n",
       "649    False\n",
       "650    False\n",
       "651    False\n",
       "653    False\n",
       "654    False\n",
       "655    False\n",
       "657    False\n",
       "658    False\n",
       "659    False\n",
       "661    False\n",
       "663    False\n",
       "665    False\n",
       "667    False\n",
       "668    False\n",
       "670    False\n",
       "671    False\n",
       "672    False\n",
       "673    False\n",
       "675    False\n",
       "676    False\n",
       "678    False\n",
       "679    False\n",
       "680    False\n",
       "681    False\n",
       "Name: Date, dtype: bool"
      ]
     },
     "execution_count": 43,
     "metadata": {},
     "output_type": "execute_result"
    }
   ],
   "source": [
    "new_df.Date.duplicated()"
   ]
  },
  {
   "cell_type": "markdown",
   "metadata": {
    "hidden": true
   },
   "source": [
    "Now, there is no duplicated matche"
   ]
  },
  {
   "cell_type": "code",
   "execution_count": 44,
   "metadata": {
    "hidden": true
   },
   "outputs": [
    {
     "data": {
      "text/html": [
       "<div>\n",
       "<style scoped>\n",
       "    .dataframe tbody tr th:only-of-type {\n",
       "        vertical-align: middle;\n",
       "    }\n",
       "\n",
       "    .dataframe tbody tr th {\n",
       "        vertical-align: top;\n",
       "    }\n",
       "\n",
       "    .dataframe thead th {\n",
       "        text-align: right;\n",
       "    }\n",
       "</style>\n",
       "<table border=\"1\" class=\"dataframe\">\n",
       "  <thead>\n",
       "    <tr style=\"text-align: right;\">\n",
       "      <th></th>\n",
       "      <th>Season</th>\n",
       "      <th>Competition</th>\n",
       "      <th>Matchday</th>\n",
       "      <th>Date</th>\n",
       "      <th>Venue</th>\n",
       "      <th>Club</th>\n",
       "      <th>Opponent</th>\n",
       "      <th>Result</th>\n",
       "      <th>Playing_Position</th>\n",
       "      <th>Minute</th>\n",
       "      <th>At_score</th>\n",
       "      <th>Type</th>\n",
       "      <th>Goal_assist</th>\n",
       "    </tr>\n",
       "  </thead>\n",
       "  <tbody>\n",
       "    <tr>\n",
       "      <th>353</th>\n",
       "      <td>13/14</td>\n",
       "      <td>LaLiga</td>\n",
       "      <td>36</td>\n",
       "      <td>5/3/14</td>\n",
       "      <td>H</td>\n",
       "      <td>FC Barcelona</td>\n",
       "      <td>Getafe CF</td>\n",
       "      <td>2:2</td>\n",
       "      <td>CF</td>\n",
       "      <td>23</td>\n",
       "      <td>1:0</td>\n",
       "      <td>Left-footed shot</td>\n",
       "      <td>Dani Alves</td>\n",
       "    </tr>\n",
       "    <tr>\n",
       "      <th>186</th>\n",
       "      <td>11/12</td>\n",
       "      <td>LaLiga</td>\n",
       "      <td>4</td>\n",
       "      <td>9/17/11</td>\n",
       "      <td>H</td>\n",
       "      <td>FC Barcelona</td>\n",
       "      <td>CA Osasuna</td>\n",
       "      <td>8:0</td>\n",
       "      <td>CF</td>\n",
       "      <td>5</td>\n",
       "      <td>1:0</td>\n",
       "      <td>Left-footed shot</td>\n",
       "      <td>Dani Alves</td>\n",
       "    </tr>\n",
       "    <tr>\n",
       "      <th>313</th>\n",
       "      <td>13/14</td>\n",
       "      <td>LaLiga</td>\n",
       "      <td>1</td>\n",
       "      <td>8/18/13</td>\n",
       "      <td>H</td>\n",
       "      <td>FC Barcelona</td>\n",
       "      <td>Levante UD</td>\n",
       "      <td>7:0</td>\n",
       "      <td>CF</td>\n",
       "      <td>13</td>\n",
       "      <td>2:0</td>\n",
       "      <td>Left-footed shot</td>\n",
       "      <td>Pedro</td>\n",
       "    </tr>\n",
       "  </tbody>\n",
       "</table>\n",
       "</div>"
      ],
      "text/plain": [
       "    Season Competition Matchday     Date Venue          Club    Opponent  \\\n",
       "353  13/14      LaLiga       36   5/3/14     H  FC Barcelona   Getafe CF   \n",
       "186  11/12      LaLiga        4  9/17/11     H  FC Barcelona  CA Osasuna   \n",
       "313  13/14      LaLiga        1  8/18/13     H  FC Barcelona  Levante UD   \n",
       "\n",
       "    Result Playing_Position Minute At_score              Type Goal_assist  \n",
       "353    2:2               CF     23      1:0  Left-footed shot  Dani Alves  \n",
       "186    8:0               CF      5      1:0  Left-footed shot  Dani Alves  \n",
       "313    7:0               CF     13      2:0  Left-footed shot       Pedro  "
      ]
     },
     "execution_count": 44,
     "metadata": {},
     "output_type": "execute_result"
    }
   ],
   "source": [
    "new_df.sample(3)"
   ]
  },
  {
   "cell_type": "code",
   "execution_count": 45,
   "metadata": {
    "hidden": true
   },
   "outputs": [
    {
     "name": "stdout",
     "output_type": "stream",
     "text": [
      "239\n"
     ]
    }
   ],
   "source": [
    "result=new_df.Result\n",
    "cnt=0\n",
    "for x in result:\n",
    "    if(x[0]>x[2]):\n",
    "        cnt=cnt+1\n",
    "        \n",
    "print(cnt)            "
   ]
  },
  {
   "cell_type": "markdown",
   "metadata": {
    "hidden": true
   },
   "source": [
    "Therefore, Messi scored in 439 matches. In these, Messi won 385 matches"
   ]
  },
  {
   "cell_type": "markdown",
   "metadata": {
    "hidden": true
   },
   "source": [
    "Let us save and upload our work to Jovian before continuing."
   ]
  },
  {
   "cell_type": "code",
   "execution_count": 46,
   "metadata": {
    "hidden": true
   },
   "outputs": [],
   "source": [
    "import jovian"
   ]
  },
  {
   "cell_type": "code",
   "execution_count": 47,
   "metadata": {
    "hidden": true
   },
   "outputs": [
    {
     "data": {
      "application/javascript": [
       "window.require && require([\"base/js/namespace\"],function(Jupyter){Jupyter.notebook.save_checkpoint()})"
      ],
      "text/plain": [
       "<IPython.core.display.Javascript object>"
      ]
     },
     "metadata": {},
     "output_type": "display_data"
    },
    {
     "name": "stdout",
     "output_type": "stream",
     "text": [
      "[jovian] Updating notebook \"asad-cuet/messis-all-club-goals-analysis-02a07\" on https://jovian.ai\u001b[0m\n",
      "[jovian] Committed successfully! https://jovian.ai/asad-cuet/messis-all-club-goals-analysis-02a07\u001b[0m\n"
     ]
    },
    {
     "data": {
      "text/plain": [
       "'https://jovian.ai/asad-cuet/messis-all-club-goals-analysis-02a07'"
      ]
     },
     "execution_count": 47,
     "metadata": {},
     "output_type": "execute_result"
    }
   ],
   "source": [
    "jovian.commit()"
   ]
  },
  {
   "cell_type": "markdown",
   "metadata": {},
   "source": [
    "## Inferences and Conclusion\n"
   ]
  },
  {
   "cell_type": "markdown",
   "metadata": {},
   "source": [
    "From Q-1 we can say messi have good combination with Luis Suarez, Dani Alves, Xavi and Iniesta. He got most assist from them. Messi scored 209 goals by his own. So he isn't dependent on other player only. He can create goals by himself. Messi's most goal peak was in 11//12 season. He broke highest calender year goal that year. "
   ]
  },
  {
   "cell_type": "code",
   "execution_count": 48,
   "metadata": {},
   "outputs": [],
   "source": [
    "import jovian"
   ]
  },
  {
   "cell_type": "code",
   "execution_count": 49,
   "metadata": {},
   "outputs": [
    {
     "data": {
      "application/javascript": [
       "window.require && require([\"base/js/namespace\"],function(Jupyter){Jupyter.notebook.save_checkpoint()})"
      ],
      "text/plain": [
       "<IPython.core.display.Javascript object>"
      ]
     },
     "metadata": {},
     "output_type": "display_data"
    },
    {
     "name": "stdout",
     "output_type": "stream",
     "text": [
      "[jovian] Updating notebook \"asad-cuet/messis-all-club-goals-analysis-02a07\" on https://jovian.ai\u001b[0m\n",
      "[jovian] Committed successfully! https://jovian.ai/asad-cuet/messis-all-club-goals-analysis-02a07\u001b[0m\n"
     ]
    },
    {
     "data": {
      "text/plain": [
       "'https://jovian.ai/asad-cuet/messis-all-club-goals-analysis-02a07'"
      ]
     },
     "execution_count": 49,
     "metadata": {},
     "output_type": "execute_result"
    }
   ],
   "source": [
    "jovian.commit()"
   ]
  },
  {
   "cell_type": "markdown",
   "metadata": {},
   "source": [
    "## References and Future Work\n"
   ]
  },
  {
   "cell_type": "markdown",
   "metadata": {},
   "source": [
    "Dataset link: https://github.com/azminewasi/Lionel-Messi-Club-Goals/\n",
    "\n",
    "I will analyse Messi vs cristiano Ronaldo goals in future. This dataset will useful for that analysis."
   ]
  },
  {
   "cell_type": "code",
   "execution_count": 50,
   "metadata": {},
   "outputs": [],
   "source": [
    "import jovian"
   ]
  },
  {
   "cell_type": "code",
   "execution_count": null,
   "metadata": {
    "scrolled": true
   },
   "outputs": [
    {
     "data": {
      "application/javascript": [
       "window.require && require([\"base/js/namespace\"],function(Jupyter){Jupyter.notebook.save_checkpoint()})"
      ],
      "text/plain": [
       "<IPython.core.display.Javascript object>"
      ]
     },
     "metadata": {},
     "output_type": "display_data"
    }
   ],
   "source": [
    "jovian.commit()"
   ]
  },
  {
   "cell_type": "code",
   "execution_count": null,
   "metadata": {},
   "outputs": [],
   "source": []
  }
 ],
 "metadata": {
  "language_info": {
   "codemirror_mode": {
    "name": "ipython",
    "version": 3
   },
   "file_extension": ".py",
   "mimetype": "text/x-python",
   "name": "python",
   "nbconvert_exporter": "python",
   "pygments_lexer": "ipython3",
   "version": "3.9.6"
  }
 },
 "nbformat": 4,
 "nbformat_minor": 4
}